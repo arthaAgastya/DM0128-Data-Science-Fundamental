{
  "nbformat": 4,
  "nbformat_minor": 0,
  "metadata": {
    "colab": {
      "provenance": [],
      "authorship_tag": "ABX9TyMnHex2Vqgdx0Jff/tSeu2b",
      "include_colab_link": true
    },
    "kernelspec": {
      "name": "python3",
      "display_name": "Python 3"
    },
    "language_info": {
      "name": "python"
    }
  },
  "cells": [
    {
      "cell_type": "markdown",
      "metadata": {
        "id": "view-in-github",
        "colab_type": "text"
      },
      "source": [
        "<a href=\"https://colab.research.google.com/github/arthaAgastya/Data-Science-Fundamental/blob/main/Bekerja_dengan_List.ipynb\" target=\"_parent\"><img src=\"https://colab.research.google.com/assets/colab-badge.svg\" alt=\"Open In Colab\"/></a>"
      ]
    },
    {
      "cell_type": "code",
      "execution_count": 1,
      "metadata": {
        "colab": {
          "base_uri": "https://localhost:8080/"
        },
        "id": "5wOVR7DyrkpM",
        "outputId": "6ed54228-edae-41c4-fab8-08d3576cb5a4"
      },
      "outputs": [
        {
          "output_type": "stream",
          "name": "stdout",
          "text": [
            "['Sang Kuriang', 10.1, 1982]\n"
          ]
        }
      ],
      "source": [
        "# Buat sebuah list\n",
        "L = [\"Sang Kuriang\", 10.1, 1982]\n",
        "print(L)\n"
      ]
    },
    {
      "cell_type": "code",
      "source": [
        "# Cetak elemen pada setiap indeks\n",
        "print('elemen yang sama menggunakan indeks negatif dan positif:\\n Positif:', L[0],\n",
        "'\\n Negatif:', L[-3])"
      ],
      "metadata": {
        "colab": {
          "base_uri": "https://localhost:8080/"
        },
        "id": "hOQp8pcWsIgV",
        "outputId": "b8cff0bf-33cd-414c-ed36-b03779bb42b7"
      },
      "execution_count": 2,
      "outputs": [
        {
          "output_type": "stream",
          "name": "stdout",
          "text": [
            "elemen yang sama menggunakan indeks negatif dan positif:\n",
            " Positif: Sang Kuriang \n",
            " Negatif: Sang Kuriang\n"
          ]
        }
      ]
    },
    {
      "cell_type": "code",
      "source": [
        "print('elemen yang sama menggunakan indeks negatif dan positif:\\n Positif:', L[1],\n",
        "'\\n Negatif:', L[-2])"
      ],
      "metadata": {
        "colab": {
          "base_uri": "https://localhost:8080/"
        },
        "id": "a27kk3t4sVVK",
        "outputId": "fea40363-25a6-4d0d-8576-542f1d43578a"
      },
      "execution_count": 3,
      "outputs": [
        {
          "output_type": "stream",
          "name": "stdout",
          "text": [
            "elemen yang sama menggunakan indeks negatif dan positif:\n",
            " Positif: 10.1 \n",
            " Negatif: 10.1\n"
          ]
        }
      ]
    },
    {
      "cell_type": "code",
      "source": [
        "print('elemen yang sama menggunakan indeks negatif dan positif:\\n Positif:', L[2],\n",
        "'\\n Negatif:', L[-1])"
      ],
      "metadata": {
        "colab": {
          "base_uri": "https://localhost:8080/"
        },
        "id": "c10aEOj9sVO8",
        "outputId": "e08416bb-4bc3-48de-acb8-c4b127fb1759"
      },
      "execution_count": 4,
      "outputs": [
        {
          "output_type": "stream",
          "name": "stdout",
          "text": [
            "elemen yang sama menggunakan indeks negatif dan positif:\n",
            " Positif: 1982 \n",
            " Negatif: 1982\n"
          ]
        }
      ]
    },
    {
      "cell_type": "code",
      "source": [
        "# Contoh List\n",
        "daftar_contoh = [\"Sang Kuriang\", 10.1, 1982, [1, 2], (\"A\", 1)]\n",
        "print(daftar_contoh)"
      ],
      "metadata": {
        "colab": {
          "base_uri": "https://localhost:8080/"
        },
        "id": "uMZmAPwgsIdE",
        "outputId": "9a6d5614-683f-4171-bccb-8572c792d631"
      },
      "execution_count": 5,
      "outputs": [
        {
          "output_type": "stream",
          "name": "stdout",
          "text": [
            "['Sang Kuriang', 10.1, 1982, [1, 2], ('A', 1)]\n"
          ]
        }
      ]
    },
    {
      "cell_type": "code",
      "source": [
        "# Slicing List\n",
        "L = [\"Sang Kuriang\", 10.1, 1982, \"MJ\", 1]\n",
        "print(L[3:5])"
      ],
      "metadata": {
        "colab": {
          "base_uri": "https://localhost:8080/"
        },
        "id": "llRfFyx_sIYT",
        "outputId": "0ae7bfce-17cb-460d-db7f-09a136d293a7"
      },
      "execution_count": 6,
      "outputs": [
        {
          "output_type": "stream",
          "name": "stdout",
          "text": [
            "['MJ', 1]\n"
          ]
        }
      ]
    },
    {
      "cell_type": "code",
      "source": [
        "# Gunakan extend untuk menambahkan elemen ke dalam list\n",
        "L = [\"Sang Kuriang\", 10.2]\n",
        "L.extend(['pop', 10])\n",
        "print(L)\n",
        "print([\"Sang Kuriang\", 10.2] + ['pop', 10])"
      ],
      "metadata": {
        "colab": {
          "base_uri": "https://localhost:8080/"
        },
        "id": "qddzLC0GsERZ",
        "outputId": "36a20a10-9332-4fde-ff56-2799b74f4415"
      },
      "execution_count": 7,
      "outputs": [
        {
          "output_type": "stream",
          "name": "stdout",
          "text": [
            "['Sang Kuriang', 10.2, 'pop', 10]\n",
            "['Sang Kuriang', 10.2, 'pop', 10]\n"
          ]
        }
      ]
    },
    {
      "cell_type": "code",
      "source": [
        "# Gunakan append untuk menambahkan elemen ke dalam list\n",
        "L = [\"Sang Kuriang\", 10.2]\n",
        "L.append(['pop', 10])\n",
        "print(L)"
      ],
      "metadata": {
        "colab": {
          "base_uri": "https://localhost:8080/"
        },
        "id": "bJ5kY2h0sEPB",
        "outputId": "6c539c98-a3c1-4f06-a1e1-92a223771739"
      },
      "execution_count": 8,
      "outputs": [
        {
          "output_type": "stream",
          "name": "stdout",
          "text": [
            "['Sang Kuriang', 10.2, ['pop', 10]]\n"
          ]
        }
      ]
    },
    {
      "cell_type": "code",
      "source": [
        "# Gunakan extend untuk menambahkan elemen ke dalam list\n",
        "L = [\"Sang Kuriang\", 10.2]\n",
        "L.extend(['pop', 10])\n",
        "print(L)"
      ],
      "metadata": {
        "colab": {
          "base_uri": "https://localhost:8080/"
        },
        "id": "jRSM3j6XsEMZ",
        "outputId": "0f96c4fd-3a8e-46bd-ae02-87b6a4713528"
      },
      "execution_count": 9,
      "outputs": [
        {
          "output_type": "stream",
          "name": "stdout",
          "text": [
            "['Sang Kuriang', 10.2, 'pop', 10]\n"
          ]
        }
      ]
    },
    {
      "cell_type": "code",
      "source": [
        "# Gunakan append untuk menambahkan elemen ke dalam list\n",
        "L = [\"Sang Kuriang\", 10.2]\n",
        "L.append(['a', 'b'])\n",
        "print(L)"
      ],
      "metadata": {
        "colab": {
          "base_uri": "https://localhost:8080/"
        },
        "id": "kh6wvtYHsEJ5",
        "outputId": "bc288d28-d509-4ff0-ffc9-954d6b57ecf5"
      },
      "execution_count": 10,
      "outputs": [
        {
          "output_type": "stream",
          "name": "stdout",
          "text": [
            "['Sang Kuriang', 10.2, ['a', 'b']]\n"
          ]
        }
      ]
    },
    {
      "cell_type": "code",
      "source": [
        "# Ubah elemen berdasarkan indeks\n",
        "A = [\"keroncong\", 10, 1.2]\n",
        "print('Sebelum perubahan:', A)\n",
        "A[0] = 'dangdut koplo'\n",
        "print('Setelah perubahan:', A)"
      ],
      "metadata": {
        "colab": {
          "base_uri": "https://localhost:8080/"
        },
        "id": "RrwKSI4qr-ku",
        "outputId": "16cd6abc-86b4-430a-f220-57e4076f519f"
      },
      "execution_count": 11,
      "outputs": [
        {
          "output_type": "stream",
          "name": "stdout",
          "text": [
            "Sebelum perubahan: ['keroncong', 10, 1.2]\n",
            "Setelah perubahan: ['dangdut koplo', 10, 1.2]\n"
          ]
        }
      ]
    },
    {
      "cell_type": "code",
      "source": [
        "# Hapus elemen berdasarkan indeks\n",
        "print('Sebelum perubahan:', A)\n",
        "del A[0]\n",
        "print('Setelah perubahan:', A)"
      ],
      "metadata": {
        "colab": {
          "base_uri": "https://localhost:8080/"
        },
        "id": "YXrJ58Zcr9O1",
        "outputId": "66a76688-9cd1-4bd7-95a5-c82f84438259"
      },
      "execution_count": 12,
      "outputs": [
        {
          "output_type": "stream",
          "name": "stdout",
          "text": [
            "Sebelum perubahan: ['dangdut koplo', 10, 1.2]\n",
            "Setelah perubahan: [10, 1.2]\n"
          ]
        }
      ]
    },
    {
      "cell_type": "code",
      "source": [
        "# Ubah string menjadi list menggunakan split. Defaultnya adalah dengan spasi\n",
        "print('dangdut koplo'.split())"
      ],
      "metadata": {
        "colab": {
          "base_uri": "https://localhost:8080/"
        },
        "id": "0M2YQUkxr74M",
        "outputId": "3295d018-c55d-4ff1-a8b5-5ba47751596d"
      },
      "execution_count": 13,
      "outputs": [
        {
          "output_type": "stream",
          "name": "stdout",
          "text": [
            "['dangdut', 'koplo']\n"
          ]
        }
      ]
    },
    {
      "cell_type": "code",
      "source": [
        "# Pisahkan string menggunakan tanda koma\n",
        "print('A,B,C,D'.split(','))"
      ],
      "metadata": {
        "colab": {
          "base_uri": "https://localhost:8080/"
        },
        "id": "9edHPNY8r60r",
        "outputId": "564014bc-1a59-47b5-d56b-da9e2efbc29f"
      },
      "execution_count": 14,
      "outputs": [
        {
          "output_type": "stream",
          "name": "stdout",
          "text": [
            "['A', 'B', 'C', 'D']\n"
          ]
        }
      ]
    },
    {
      "cell_type": "code",
      "source": [
        "# Salin list A (salin dengan referensi)\n",
        "A = [\"dangdut koplo\", 10, 1.2]\n",
        "B = A.copy()\n",
        "print('A:', A)\n",
        "print('B:', B)\n"
      ],
      "metadata": {
        "colab": {
          "base_uri": "https://localhost:8080/"
        },
        "id": "sQ6CJYVgr55j",
        "outputId": "10638311-157e-40f4-f265-b88b73bdf400"
      },
      "execution_count": 15,
      "outputs": [
        {
          "output_type": "stream",
          "name": "stdout",
          "text": [
            "A: ['dangdut koplo', 10, 1.2]\n",
            "B: ['dangdut koplo', 10, 1.2]\n"
          ]
        }
      ]
    },
    {
      "cell_type": "code",
      "source": [
        "# Periksa salinan dengan referensi\n",
        "print('B[0]:', B[0])\n",
        "A[0] = \"tempe\"\n",
        "print('B[0]:', B[0])"
      ],
      "metadata": {
        "colab": {
          "base_uri": "https://localhost:8080/"
        },
        "id": "25jWwU7hryj_",
        "outputId": "d4642b97-e5e0-4a8f-97c6-4e4fe965b38f"
      },
      "execution_count": 16,
      "outputs": [
        {
          "output_type": "stream",
          "name": "stdout",
          "text": [
            "B[0]: dangdut koplo\n",
            "B[0]: dangdut koplo\n"
          ]
        }
      ]
    },
    {
      "cell_type": "code",
      "source": [
        "# Klone list A (kloning dengan nilai)\n",
        "B = A[:]\n",
        "print('B[0]:', B[0])\n",
        "A[0] = \"dangdut koplo\"\n",
        "print('B[0]:', B[0])"
      ],
      "metadata": {
        "colab": {
          "base_uri": "https://localhost:8080/"
        },
        "id": "KqYdZ-7QrwiO",
        "outputId": "684580fb-bf64-4c6b-e112-2785184d6de2"
      },
      "execution_count": 17,
      "outputs": [
        {
          "output_type": "stream",
          "name": "stdout",
          "text": [
            "B[0]: tempe\n",
            "B[0]: tempe\n"
          ]
        }
      ]
    },
    {
      "cell_type": "code",
      "source": [
        "# Tampilkan a_list\n",
        "a_list = [1, 'halo', [1, 2, 3], True]\n",
        "print(a_list)"
      ],
      "metadata": {
        "colab": {
          "base_uri": "https://localhost:8080/"
        },
        "id": "VqezLPcXrwfc",
        "outputId": "c98f22f0-0cd9-4c72-db1d-16d9f05a9f00"
      },
      "execution_count": 18,
      "outputs": [
        {
          "output_type": "stream",
          "name": "stdout",
          "text": [
            "[1, 'halo', [1, 2, 3], True]\n"
          ]
        }
      ]
    },
    {
      "cell_type": "code",
      "source": [
        "# Temukan nilai yang disimpan pada indeks 1 dari a_list\n",
        "print(a_list[1])"
      ],
      "metadata": {
        "colab": {
          "base_uri": "https://localhost:8080/"
        },
        "id": "508QGZlZrwcw",
        "outputId": "3814d437-2416-4841-956f-7685eca3d40f"
      },
      "execution_count": 19,
      "outputs": [
        {
          "output_type": "stream",
          "name": "stdout",
          "text": [
            "halo\n"
          ]
        }
      ]
    },
    {
      "cell_type": "code",
      "source": [
        "# Dapatkan elemen yang disimpan pada indeks 1, 2, dan 3 dari a_list\n",
        "print(a_list[1:4])"
      ],
      "metadata": {
        "colab": {
          "base_uri": "https://localhost:8080/"
        },
        "id": "DNIaxv4UrwZn",
        "outputId": "940db5a3-2af9-4fb4-9cbe-c7eeb5543f3a"
      },
      "execution_count": 20,
      "outputs": [
        {
          "output_type": "stream",
          "name": "stdout",
          "text": [
            "['halo', [1, 2, 3], True]\n"
          ]
        }
      ]
    },
    {
      "cell_type": "code",
      "source": [
        "# Gabungkan list A = [1, 'a'] dan B = [2, 1, 'd']\n",
        "A = [1, 'a']\n",
        "B = [2, 1, 'd']\n",
        "A.extend(B)\n",
        "print(A)"
      ],
      "metadata": {
        "colab": {
          "base_uri": "https://localhost:8080/"
        },
        "id": "clz34uWFrwW2",
        "outputId": "458ab97b-0f00-4fe0-f215-69842d236fc0"
      },
      "execution_count": 21,
      "outputs": [
        {
          "output_type": "stream",
          "name": "stdout",
          "text": [
            "[1, 'a', 2, 1, 'd']\n"
          ]
        }
      ]
    }
  ]
}