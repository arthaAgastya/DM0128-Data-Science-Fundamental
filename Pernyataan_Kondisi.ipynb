{
  "nbformat": 4,
  "nbformat_minor": 0,
  "metadata": {
    "colab": {
      "provenance": [],
      "include_colab_link": true
    },
    "kernelspec": {
      "name": "python3",
      "display_name": "Python 3"
    },
    "language_info": {
      "name": "python"
    }
  },
  "cells": [
    {
      "cell_type": "markdown",
      "metadata": {
        "id": "view-in-github",
        "colab_type": "text"
      },
      "source": [
        "<a href=\"https://colab.research.google.com/github/arthaAgastya/Data-Science-Fundamental/blob/main/Pernyataan_Kondisi.ipynb\" target=\"_parent\"><img src=\"https://colab.research.google.com/assets/colab-badge.svg\" alt=\"Open In Colab\"/></a>"
      ]
    },
    {
      "cell_type": "code",
      "source": [
        "\"\"\"Kondisi dalam Python\n",
        "Pernyataan Kondisi\n",
        "Operasi perbandingan membandingkan beberapa nilai atau operand dan, berdasarkan kondisi, menghasilkan Boolean. Saat membandingkan dua nilai, Anda dapat menggunakan operator berikut:\n",
        "sama dengan: ==\n",
        "tidak sama dengan: !=\n",
        "lebih besar dari: >\n",
        "kurang dari: <\n",
        "lebih besar dari atau sama dengan: >=\n",
        "kurang dari atau sama dengan: <=\n",
        "\n",
        "Mari berikan nilai 5 pada variabel a. Gunakan operator kesetaraan yang ditandai dengan dua tanda sama dengan == untuk menentukan apakah dua nilai sama. Pada contoh berikut, kita membandingkan variabel a dengan 6.\n",
        "Kondisi Sama\"\"\"\n",
        "\n",
        "a = 5\n",
        "print(a == 6)"
      ],
      "metadata": {
        "colab": {
          "base_uri": "https://localhost:8080/"
        },
        "id": "GPz564-mvFss",
        "outputId": "17cfc59e-0277-471c-b5bf-46f760909eda"
      },
      "execution_count": 1,
      "outputs": [
        {
          "output_type": "stream",
          "name": "stdout",
          "text": [
            "False\n"
          ]
        }
      ]
    },
    {
      "cell_type": "code",
      "source": [
        "\"\"\"Hasilnya adalah False karena 5 tidak sama dengan 6.\n",
        "Pertimbangkan operator perbandingan ketidaksamaan x > 10. Jika nilai dari operand kiri, dalam hal ini, variabel x, lebih besar dari nilai operand kanan (10 dalam hal ini), maka pernyataannya adalah True. Jika x sama dengan 15, karena 15 lebih besar dari 10, outputnya adalah True.\n",
        "Tanda Lebih Besar\"\"\"\n",
        "\n",
        "x = 15\n",
        "print(x > 10)"
      ],
      "metadata": {
        "colab": {
          "base_uri": "https://localhost:8080/"
        },
        "id": "2iCLQi7kvEMZ",
        "outputId": "cded33c3-51c9-4dab-91cc-c30cbb863d6c"
      },
      "execution_count": 2,
      "outputs": [
        {
          "output_type": "stream",
          "name": "stdout",
          "text": [
            "True\n"
          ]
        }
      ]
    },
    {
      "cell_type": "code",
      "source": [
        "\"\"\"Mari atur x = 7. Pernyataan ini salah karena 7 tidak lebih besar dari 10:\n",
        "Tanda Lebih Besar\"\"\"\n",
        "\n",
        "x = 7\n",
        "print(x > 10)"
      ],
      "metadata": {
        "colab": {
          "base_uri": "https://localhost:8080/"
        },
        "id": "-9mUFC_svBkN",
        "outputId": "1ffe7c97-aaed-419a-94c9-3c29483e4421"
      },
      "execution_count": 3,
      "outputs": [
        {
          "output_type": "stream",
          "name": "stdout",
          "text": [
            "False\n"
          ]
        }
      ]
    },
    {
      "cell_type": "code",
      "source": [
        "\"\"\"Mari visualisasikan nilai-nilai x pada garis bilangan. Kami akan menandai nilai-nilai yang lebih besar dari 10 dengan warna hijau dan sisanya dengan warna merah. Wilayah hijau mewakili kondisi yang benar, sedangkan wilayah merah mewakili kondisi yang salah. Jika nilai x adalah 7, kita mendapatkan False karena 7 berada dalam wilayah merah. Demikian pula, jika nilai x adalah 15, kita mendapatkan True karena kondisinya berada dalam wilayah hijau.\n",
        "Tanda Ketidaksamaan\"\"\"\n",
        "\n",
        "y = 7\n",
        "print(y != 10)"
      ],
      "metadata": {
        "colab": {
          "base_uri": "https://localhost:8080/"
        },
        "id": "ddFwOjErvBhN",
        "outputId": "4b5c3c28-140d-41d8-893f-0bb7892cf101"
      },
      "execution_count": 4,
      "outputs": [
        {
          "output_type": "stream",
          "name": "stdout",
          "text": [
            "True\n"
          ]
        }
      ]
    },
    {
      "cell_type": "code",
      "source": [
        "\n",
        "\"\"\"Ketika y sama dengan 10, ekspresi ketidaksamaan menghasilkan False.\n",
        "Tanda Ketidaksamaan\"\"\"\n",
        "\n",
        "y = 10\n",
        "print(y != 10)"
      ],
      "metadata": {
        "colab": {
          "base_uri": "https://localhost:8080/"
        },
        "id": "HVTGMl_svBeW",
        "outputId": "b655f7e5-b71f-465f-b685-da084d591a4b"
      },
      "execution_count": 5,
      "outputs": [
        {
          "output_type": "stream",
          "name": "stdout",
          "text": [
            "False\n"
          ]
        }
      ]
    },
    {
      "cell_type": "code",
      "source": [
        "\"\"\"Mari lihat garis bilangan di bawah ini. Ketika kondisinya benar, angka-angka yang sesuai ditandai dengan warna hijau, dan untuk kondisi yang salah, angka yang sesuai ditandai dengan warna merah. Jika kita mengatur y sama dengan 7, operatornya adalah True karena 7 berada dalam wilayah hijau. Jika kita mengatur y sama dengan 10, kita mendapatkan False karena kondisinya berada dalam wilayah merah.\n",
        "Kita juga dapat menerapkan metode yang sama pada string. Misalnya, gunakan operator kesetaraan untuk membandingkan dua string yang berbeda. Karena string tidak sama, kita mendapatkan False.\n",
        "Gunakan tanda Kesetaraan untuk membandingkan string\"\"\"\n",
        "\n",
        "print(\"Python\" == \"Java\")"
      ],
      "metadata": {
        "colab": {
          "base_uri": "https://localhost:8080/"
        },
        "id": "Iam6hM--u29F",
        "outputId": "70cd13c7-30de-45be-ca18-87dc72d61c87"
      },
      "execution_count": 6,
      "outputs": [
        {
          "output_type": "stream",
          "name": "stdout",
          "text": [
            "False\n"
          ]
        }
      ]
    },
    {
      "cell_type": "code",
      "source": [
        "\"\"\"Jika kita menggunakan operator ketidaksamaan, outputnya akan menjadi True karena string tidak sama.\n",
        "\n",
        "Operasi ketidaksamaan juga digunakan untuk membandingkan karakter/kata/simbol berdasarkan nilai ASCII mereka. Nilai desimal yang ditampilkan dalam tabel berikut mewakili urutan karakter:\n",
        "Misalnya, kode ASCII untuk 'A' adalah 65, sedangkan kode ASCII untuk 'B' adalah 66. Oleh karena itu, 'B' lebih besar dari 'A' karena 66 lebih besar dari 65.\n",
        "Demikian pula, nilai untuk 'a' adalah 97, dan nilai untuk 'b' adalah 98. Oleh karena itu, 'b' lebih besar dari 'a' karena 98 lebih besar dari 97.\n",
        "\n",
        "Gunakan tanda Ketidaksamaan untuk membandingkan string\n",
        "\"\"\"\n",
        "\n",
        "print(\"Python\" != \"Java\")"
      ],
      "metadata": {
        "colab": {
          "base_uri": "https://localhost:8080/"
        },
        "id": "Yt0dNenPuvbB",
        "outputId": "7a383c8e-e558-4b71-8644-2caac3718465"
      },
      "execution_count": 7,
      "outputs": [
        {
          "output_type": "stream",
          "name": "stdout",
          "text": [
            "True\n"
          ]
        }
      ]
    },
    {
      "cell_type": "code",
      "source": [
        "\"\"\"Percabangan\n",
        "Percabangan memungkinkan kita menjalankan pernyataan yang berbeda untuk input yang berbeda. Berguna untuk memikirkan pernyataan if sebagai ruangan yang terkunci, jika pernyataannya True, kita dapat masuk ke ruangan dan program Anda akan menjalankan beberapa tugas yang telah ditentukan sebelumnya. Jika pernyataan tersebut False, ruangan terkunci tetap tertutup dan pernyataan tersebut tidak akan menjalankan tugas yang telah ditentukan sebelumnya.\n",
        "Diagram alir di bawah ini menunjukkan bagaimana sebuah pernyataan percabangan dapat dieksekusi. Kondisinya ada dalam bentuk berlian dan pernyataannya diindentasi. Kode melakukan hal berikut:\n",
        "- Memeriksa apakah cerah. Jika True, bermain di luar. Jika tidak, tetap di dalam.\n",
        "\n",
        "Mari tulis sebuah pernyataan if. Jika hari cerah, saya akan pergi bermain. Jika tidak, saya akan tetap di dalam. Contoh ini menggunakan variabel sunny. Anda akan belajar cara menggunakan kondisi pada bagian berikutnya.\n",
        "Contoh Pernyataan If\"\"\"\n",
        "\n",
        "sunny = True\n",
        "\n",
        "if sunny:\n",
        "    print(\"Saya akan pergi bermain.\")\n",
        "else:\n",
        "    print(\"Saya akan tetap di dalam.\")"
      ],
      "metadata": {
        "colab": {
          "base_uri": "https://localhost:8080/"
        },
        "id": "lnCKZwNxuvTZ",
        "outputId": "66c04626-3e9a-432c-e1a8-617e124ad264"
      },
      "execution_count": 8,
      "outputs": [
        {
          "output_type": "stream",
          "name": "stdout",
          "text": [
            "Saya akan pergi bermain.\n"
          ]
        }
      ]
    },
    {
      "cell_type": "code",
      "source": [
        "\"\"\"Jika sunny adalah True, kita pergi bermain. Jika tidak, kita tetap di dalam.\n",
        "Ubah nilai sunny menjadi False dan jalankan kode.\"\"\"\n",
        "\n",
        "sunny = False\n",
        "\n",
        "if sunny:\n",
        "    print(\"Saya akan pergi bermain.\")\n",
        "else:\n",
        "    print(\"Saya akan tetap di dalam.\")"
      ],
      "metadata": {
        "colab": {
          "base_uri": "https://localhost:8080/"
        },
        "id": "K4XPmxizuvQp",
        "outputId": "cdac1cc3-ccad-4ce7-b6e1-9c06f6269726"
      },
      "execution_count": 9,
      "outputs": [
        {
          "output_type": "stream",
          "name": "stdout",
          "text": [
            "Saya akan tetap di dalam.\n"
          ]
        }
      ]
    },
    {
      "cell_type": "code",
      "source": [
        "# Kali ini, kita tetap di dalam karena sunny adalah False."
      ],
      "metadata": {
        "id": "al6Qup26uvNy"
      },
      "execution_count": 10,
      "outputs": []
    },
    {
      "cell_type": "code",
      "source": [
        "\"\"\"Percabangan dengan elif\n",
        "Selain menggunakan pernyataan if dan else, kita juga dapat menggunakan pernyataan elif (singkatan dari \"else if\") \n",
        "untuk menambahkan kondisi tambahan. Pernyataan elif digunakan ketika ada lebih dari dua kondisi yang ingin kita cek. \n",
        "Berikut adalah contoh penggunaan pernyataan elif:\n",
        "Contoh Pernyataan If dengan Elif\"\"\"\n",
        "\n",
        "x = 10\n",
        "\n",
        "if x > 10:\n",
        "    print(\"x lebih besar dari 10\")\n",
        "elif x < 10:\n",
        "    print(\"x kurang dari 10\")\n",
        "else:\n",
        "    print(\"x sama dengan 10\")"
      ],
      "metadata": {
        "id": "X1K01filz4Em",
        "colab": {
          "base_uri": "https://localhost:8080/"
        },
        "outputId": "608861b0-a4f2-48bb-b93f-549efd91cbc2"
      },
      "execution_count": 11,
      "outputs": [
        {
          "output_type": "stream",
          "name": "stdout",
          "text": [
            "x sama dengan 10\n"
          ]
        }
      ]
    },
    {
      "cell_type": "code",
      "source": [
        "# Pada contoh di atas, jika x lebih besar dari 10, akan dicetak \"x lebih besar dari 10\". Jika x kurang dari 10, akan dicetak \"x kurang dari 10\". \n",
        "# Jika kedua kondisi tersebut tidak terpenuhi, yaitu jika x sama dengan 10, maka akan dicetak \"x sama dengan 10\"."
      ],
      "metadata": {
        "id": "wcNaxu9Pz4Bt"
      },
      "execution_count": 12,
      "outputs": []
    },
    {
      "cell_type": "code",
      "source": [
        "# Ini adalah contoh percabangan yang sedikit lebih kompleks. Mari kita lihat:\n",
        "nilai = 85\n",
        "\n",
        "if nilai >= 90:\n",
        "    print(\"Grade A\")\n",
        "elif nilai >= 80:\n",
        "    print(\"Grade B\")\n",
        "elif nilai >= 70:\n",
        "    print(\"Grade C\")\n",
        "elif nilai >= 60:\n",
        "    print(\"Grade D\")\n",
        "else:\n",
        "    print(\"Grade E\")\n",
        "\n",
        "# Dalam contoh di atas, kita menggunakan pernyataan if dan elif untuk memeriksa kisaran nilai. \n",
        "# Jika nilai lebih besar atau sama dengan 90, akan dicetak \"Grade A\". Jika tidak, maka akan dicek apakah nilai lebih besar atau sama dengan 80. \n",
        "# Jika iya, akan dicetak \"Grade B\". Demikian seterusnya hingga mencapai pernyataan else, yang mencetak \"Grade E\" jika tidak ada kondisi sebelumnya yang terpenuhi.\n",
        "# Cobalah mengubah nilai variabel \"nilai\" dan lihat output yang dihasilkan berdasarkan kondisinya.\n"
      ],
      "metadata": {
        "id": "KXPlPbfez35W",
        "colab": {
          "base_uri": "https://localhost:8080/"
        },
        "outputId": "782b935b-91cd-48e9-a0e4-25e3976635f6"
      },
      "execution_count": 13,
      "outputs": [
        {
          "output_type": "stream",
          "name": "stdout",
          "text": [
            "Grade B\n"
          ]
        }
      ]
    }
  ]
}