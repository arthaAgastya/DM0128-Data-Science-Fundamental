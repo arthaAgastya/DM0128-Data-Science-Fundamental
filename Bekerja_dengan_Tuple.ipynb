{
  "nbformat": 4,
  "nbformat_minor": 0,
  "metadata": {
    "colab": {
      "provenance": [],
      "authorship_tag": "ABX9TyOdWQZlArAInYqnRT5SdivC",
      "include_colab_link": true
    },
    "kernelspec": {
      "name": "python3",
      "display_name": "Python 3"
    },
    "language_info": {
      "name": "python"
    }
  },
  "cells": [
    {
      "cell_type": "markdown",
      "metadata": {
        "id": "view-in-github",
        "colab_type": "text"
      },
      "source": [
        "<a href=\"https://colab.research.google.com/github/arthaAgastya/Data-Science-Fundamental/blob/main/Bekerja_dengan_Tuple.ipynb\" target=\"_parent\"><img src=\"https://colab.research.google.com/assets/colab-badge.svg\" alt=\"Open In Colab\"/></a>"
      ]
    },
    {
      "cell_type": "code",
      "execution_count": 1,
      "metadata": {
        "colab": {
          "base_uri": "https://localhost:8080/"
        },
        "id": "g91fYDQ8nSBY",
        "outputId": "1f7fd74c-aad3-46d9-d18d-c28fb31f007b"
      },
      "outputs": [
        {
          "output_type": "stream",
          "name": "stdout",
          "text": [
            "('wortel', 'kentang', 'bayam', 'brokoli', 'timun')\n"
          ]
        }
      ],
      "source": [
        "# Buat sebuah tuple dengan berbagai jenis sayuran\n",
        "sayuran_tuple = (\"wortel\", \"kentang\", \"bayam\", \"brokoli\", \"timun\")\n",
        "print(sayuran_tuple)\n"
      ]
    },
    {
      "cell_type": "code",
      "source": [
        "# Periksa tipe dari tuple\n",
        "print(type(sayuran_tuple))"
      ],
      "metadata": {
        "colab": {
          "base_uri": "https://localhost:8080/"
        },
        "id": "ai4XqNjTo162",
        "outputId": "dc799e9a-2a29-49b3-e19a-45e0912b2b20"
      },
      "execution_count": 2,
      "outputs": [
        {
          "output_type": "stream",
          "name": "stdout",
          "text": [
            "<class 'tuple'>\n"
          ]
        }
      ]
    },
    {
      "cell_type": "code",
      "source": [
        "# Akses elemen menggunakan indeks\n",
        "print(sayuran_tuple[0])\n",
        "print(sayuran_tuple[1])\n",
        "print(sayuran_tuple[2])"
      ],
      "metadata": {
        "colab": {
          "base_uri": "https://localhost:8080/"
        },
        "id": "yGTT86d2o14C",
        "outputId": "c59f9927-f073-4163-b7ef-13132ea313bf"
      },
      "execution_count": 3,
      "outputs": [
        {
          "output_type": "stream",
          "name": "stdout",
          "text": [
            "wortel\n",
            "kentang\n",
            "bayam\n"
          ]
        }
      ]
    },
    {
      "cell_type": "code",
      "source": [
        "# Periksa tipe setiap elemen\n",
        "print(type(sayuran_tuple[0]))\n",
        "print(type(sayuran_tuple[1]))\n",
        "print(type(sayuran_tuple[2]))"
      ],
      "metadata": {
        "colab": {
          "base_uri": "https://localhost:8080/"
        },
        "id": "b0ltAFqxo11L",
        "outputId": "45837c36-ce16-4f7b-8d77-d7fc30865399"
      },
      "execution_count": 4,
      "outputs": [
        {
          "output_type": "stream",
          "name": "stdout",
          "text": [
            "<class 'str'>\n",
            "<class 'str'>\n",
            "<class 'str'>\n"
          ]
        }
      ]
    },
    {
      "cell_type": "code",
      "source": [
        "# Gunakan indeks negatif untuk mengakses elemen terakhir\n",
        "print(sayuran_tuple[-1])"
      ],
      "metadata": {
        "colab": {
          "base_uri": "https://localhost:8080/"
        },
        "id": "Edn9dy4no1yi",
        "outputId": "69b5839d-eacf-42b6-ea0b-a951fa22a5cc"
      },
      "execution_count": 5,
      "outputs": [
        {
          "output_type": "stream",
          "name": "stdout",
          "text": [
            "timun\n"
          ]
        }
      ]
    },
    {
      "cell_type": "code",
      "source": [
        "# Gunakan indeks negatif untuk mengakses elemen kedua terakhir\n",
        "print(sayuran_tuple[-2])"
      ],
      "metadata": {
        "colab": {
          "base_uri": "https://localhost:8080/"
        },
        "id": "kbLnmD0eov_t",
        "outputId": "afecbe52-95b2-407c-bb2a-63094a0579a8"
      },
      "execution_count": 6,
      "outputs": [
        {
          "output_type": "stream",
          "name": "stdout",
          "text": [
            "brokoli\n"
          ]
        }
      ]
    },
    {
      "cell_type": "code",
      "source": [
        "# Gunakan indeks negatif untuk mengakses elemen ketiga terakhir\n",
        "print(sayuran_tuple[-3])"
      ],
      "metadata": {
        "colab": {
          "base_uri": "https://localhost:8080/"
        },
        "id": "WH9RjrRYov8u",
        "outputId": "b057e920-a690-4765-8276-92f181df5c9a"
      },
      "execution_count": 7,
      "outputs": [
        {
          "output_type": "stream",
          "name": "stdout",
          "text": [
            "bayam\n"
          ]
        }
      ]
    },
    {
      "cell_type": "code",
      "source": [
        "# Menggabungkan dua tuple\n",
        "tuple2 = sayuran_tuple + (\"terong\", \"bayam\")\n",
        "print(tuple2)"
      ],
      "metadata": {
        "colab": {
          "base_uri": "https://localhost:8080/"
        },
        "id": "bupFasQLov6b",
        "outputId": "b8cca642-4474-4e98-ad90-917d561810c2"
      },
      "execution_count": 8,
      "outputs": [
        {
          "output_type": "stream",
          "name": "stdout",
          "text": [
            "('wortel', 'kentang', 'bayam', 'brokoli', 'timun', 'terong', 'bayam')\n"
          ]
        }
      ]
    },
    {
      "cell_type": "code",
      "source": [
        "# Iris tuple dari indeks 1 hingga indeks 3\n",
        "print(tuple2[1:4])"
      ],
      "metadata": {
        "colab": {
          "base_uri": "https://localhost:8080/"
        },
        "id": "6lFFB50jov3T",
        "outputId": "f284ea36-0463-4d64-c108-b33311500231"
      },
      "execution_count": 9,
      "outputs": [
        {
          "output_type": "stream",
          "name": "stdout",
          "text": [
            "('kentang', 'bayam', 'brokoli')\n"
          ]
        }
      ]
    },
    {
      "cell_type": "code",
      "source": [
        "# Iris tuple dari indeks 3 hingga indeks 5\n",
        "print(tuple2[3:6])"
      ],
      "metadata": {
        "colab": {
          "base_uri": "https://localhost:8080/"
        },
        "id": "k6OVmsktov0j",
        "outputId": "80b012b3-4416-430a-c8f7-1fc10eb40acb"
      },
      "execution_count": 10,
      "outputs": [
        {
          "output_type": "stream",
          "name": "stdout",
          "text": [
            "('brokoli', 'timun', 'terong')\n"
          ]
        }
      ]
    },
    {
      "cell_type": "code",
      "source": [
        "# Dapatkan panjang dari tuple\n",
        "print(len(tuple2))"
      ],
      "metadata": {
        "colab": {
          "base_uri": "https://localhost:8080/"
        },
        "id": "fJFBfN-SopVJ",
        "outputId": "9611fd4f-041a-4dc8-c558-39dbddca55d1"
      },
      "execution_count": 11,
      "outputs": [
        {
          "output_type": "stream",
          "name": "stdout",
          "text": [
            "7\n"
          ]
        }
      ]
    },
    {
      "cell_type": "code",
      "source": [
        "# Urutkan tuple dengan nilai string\n",
        "sayuran_sorted = sorted(sayuran_tuple)\n",
        "print(sayuran_sorted)"
      ],
      "metadata": {
        "colab": {
          "base_uri": "https://localhost:8080/"
        },
        "id": "4DhGtGquopc_",
        "outputId": "7ac58e58-8941-42db-b018-54f7c6ce4b0f"
      },
      "execution_count": 12,
      "outputs": [
        {
          "output_type": "stream",
          "name": "stdout",
          "text": [
            "['bayam', 'brokoli', 'kentang', 'timun', 'wortel']\n"
          ]
        }
      ]
    },
    {
      "cell_type": "code",
      "source": [
        "# Buat sebuah tuple bersarang dengan sayuran dan warna\n",
        "sayuran_bersarang = (\"wortel\", \"kentang\", (\"hijau\", \"merah\"), (\"bayam\", \"ungu\"), \"brokoli\")\n",
        "print(\"Elemen 0 dari Tuple:\", sayuran_bersarang[0])\n",
        "print(\"Elemen 1 dari Tuple:\", sayuran_bersarang[1])\n",
        "print(\"Elemen 2 dari Tuple:\", sayuran_bersarang[2])\n",
        "print(\"Elemen 3 dari Tuple:\", sayuran_bersarang[3])\n",
        "print(\"Elemen 4 dari Tuple:\", sayuran_bersarang[4])"
      ],
      "metadata": {
        "colab": {
          "base_uri": "https://localhost:8080/"
        },
        "id": "Ixnazoz8opgH",
        "outputId": "e34e075f-5c09-4f2a-b396-59b3bdc7d055"
      },
      "execution_count": 13,
      "outputs": [
        {
          "output_type": "stream",
          "name": "stdout",
          "text": [
            "Elemen 0 dari Tuple: wortel\n",
            "Elemen 1 dari Tuple: kentang\n",
            "Elemen 2 dari Tuple: ('hijau', 'merah')\n",
            "Elemen 3 dari Tuple: ('bayam', 'ungu')\n",
            "Elemen 4 dari Tuple: brokoli\n"
          ]
        }
      ]
    },
    {
      "cell_type": "code",
      "source": [
        "# Akses elemen dalam tuple bersarang\n",
        "print(\"Elemen 2, 0 dari Tuple:\", sayuran_bersarang[2][0])\n",
        "print(\"Elemen 2, 1 dari Tuple:\", sayuran_bersarang[2][1])\n",
        "print(\"Elemen 3, 0 dari Tuple:\", sayuran_bersarang[3][0])\n",
        "print(\"Elemen 3, 1 dari Tuple:\", sayuran_bersarang[3][1])"
      ],
      "metadata": {
        "colab": {
          "base_uri": "https://localhost:8080/"
        },
        "id": "nKOGBsMiopiv",
        "outputId": "6d7c59fd-9abf-498b-eca4-17481897283f"
      },
      "execution_count": 14,
      "outputs": [
        {
          "output_type": "stream",
          "name": "stdout",
          "text": [
            "Elemen 2, 0 dari Tuple: hijau\n",
            "Elemen 2, 1 dari Tuple: merah\n",
            "Elemen 3, 0 dari Tuple: bayam\n",
            "Elemen 3, 1 dari Tuple: ungu\n"
          ]
        }
      ]
    },
    {
      "cell_type": "code",
      "source": [
        "sayuran_tuple = (\"wortel\", \"kentang\", \"bayam\", \"brokoli\", \"timun\",\"jipang\", \"toge\")"
      ],
      "metadata": {
        "id": "xew33nzNoP76"
      },
      "execution_count": 15,
      "outputs": []
    },
    {
      "cell_type": "code",
      "source": [
        "# Temukan panjang dari tuple sayuran\n",
        "print(len(sayuran_tuple))"
      ],
      "metadata": {
        "colab": {
          "base_uri": "https://localhost:8080/"
        },
        "id": "9a-ZxwNOoP5V",
        "outputId": "7ae728d3-1c7e-4a1c-86ef-14c5bacf3e49"
      },
      "execution_count": 16,
      "outputs": [
        {
          "output_type": "stream",
          "name": "stdout",
          "text": [
            "7\n"
          ]
        }
      ]
    },
    {
      "cell_type": "code",
      "source": [
        "# Akses elemen pada indeks 2\n",
        "print(sayuran_tuple[2])"
      ],
      "metadata": {
        "colab": {
          "base_uri": "https://localhost:8080/"
        },
        "id": "WY4suQSqoP28",
        "outputId": "da80a8d1-65aa-4a92-cbd6-eab07a0eb660"
      },
      "execution_count": 17,
      "outputs": [
        {
          "output_type": "stream",
          "name": "stdout",
          "text": [
            "bayam\n"
          ]
        }
      ]
    },
    {
      "cell_type": "code",
      "source": [
        "# Iris tuple untuk mendapatkan elemen pada indeks 2, 3, dan 4\n",
        "print(sayuran_tuple[2:5])"
      ],
      "metadata": {
        "colab": {
          "base_uri": "https://localhost:8080/"
        },
        "id": "C6_3z82coP0V",
        "outputId": "bc3ce457-716b-4dea-9e82-f29e90e3ffe0"
      },
      "execution_count": 18,
      "outputs": [
        {
          "output_type": "stream",
          "name": "stdout",
          "text": [
            "('bayam', 'brokoli', 'timun')\n"
          ]
        }
      ]
    },
    {
      "cell_type": "code",
      "source": [
        "# Dapatkan dua elemen pertama dari tuple\n",
        "print(sayuran_tuple[:2])"
      ],
      "metadata": {
        "colab": {
          "base_uri": "https://localhost:8080/"
        },
        "id": "iIJ9bZd3oPxi",
        "outputId": "e733b166-884f-4eae-aab1-c98abdc3bced"
      },
      "execution_count": 19,
      "outputs": [
        {
          "output_type": "stream",
          "name": "stdout",
          "text": [
            "('wortel', 'kentang')\n"
          ]
        }
      ]
    },
    {
      "cell_type": "code",
      "source": [
        "# Temukan indeks dari \"brokoli\"\n",
        "print(sayuran_tuple.index('brokoli'))"
      ],
      "metadata": {
        "colab": {
          "base_uri": "https://localhost:8080/"
        },
        "id": "_kE1Vsz-oPuq",
        "outputId": "d44f3454-2c6e-41e7-cf29-96a8b4671fbf"
      },
      "execution_count": 20,
      "outputs": [
        {
          "output_type": "stream",
          "name": "stdout",
          "text": [
            "3\n"
          ]
        }
      ]
    },
    {
      "cell_type": "code",
      "source": [
        "# Menghasilkan daftar yang diurutkan dari tuple dengan nilai negatif\n",
        "c_tuple = (-2, -1, -5, -3)\n",
        "c_list = sorted(c_tuple)\n",
        "print(c_list)"
      ],
      "metadata": {
        "colab": {
          "base_uri": "https://localhost:8080/"
        },
        "id": "bkfHqFB2oPr7",
        "outputId": "5ad2f8de-ec1c-4544-c862-3d8a42a5c3dc"
      },
      "execution_count": 21,
      "outputs": [
        {
          "output_type": "stream",
          "name": "stdout",
          "text": [
            "[-5, -3, -2, -1]\n"
          ]
        }
      ]
    }
  ]
}