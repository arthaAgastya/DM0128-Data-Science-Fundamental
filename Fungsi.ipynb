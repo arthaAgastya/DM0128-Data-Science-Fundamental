{
  "nbformat": 4,
  "nbformat_minor": 0,
  "metadata": {
    "colab": {
      "provenance": [],
      "authorship_tag": "ABX9TyP7J00pq7qiay+dnQYzlfRM",
      "include_colab_link": true
    },
    "kernelspec": {
      "name": "python3",
      "display_name": "Python 3"
    },
    "language_info": {
      "name": "python"
    }
  },
  "cells": [
    {
      "cell_type": "markdown",
      "metadata": {
        "id": "view-in-github",
        "colab_type": "text"
      },
      "source": [
        "<a href=\"https://colab.research.google.com/github/arthaAgastya/Data-Science-Fundamental/blob/main/Fungsi.ipynb\" target=\"_parent\"><img src=\"https://colab.research.google.com/assets/colab-badge.svg\" alt=\"Open In Colab\"/></a>"
      ]
    },
    {
      "cell_type": "markdown",
      "source": [
        "# Pengenalan tentang Fungsi\n",
        "Fungsi adalah kumpulan kode yang dapat digunakan ulang untuk melakukan tugas tertentu. Fungsi membantu dalam memecah masalah kompleks menjadi bagian yang lebih kecil dan mudah dikelola, serta memungkinkan penggunaan ulang kode di bagian-bagian yang berbeda dari program. Di Python, fungsi dapat didefinisikan oleh pengguna atau telah ditentukan sebelumnya.\n",
        "\n"
      ],
      "metadata": {
        "id": "3ucTxvR-CSbx"
      }
    },
    {
      "cell_type": "markdown",
      "source": [
        "## Fungsi yang Telah Ditentukan Sebelumnya\n",
        "Python menyediakan berbagai fungsi yang telah ditentukan sebelumnya dan telah terintegrasi dalam bahasa tersebut. Fungsi-fungsi ini siap digunakan dan meliputi berbagai operasi, seperti perhitungan matematika, manipulasi string, pengolahan file, dll. Beberapa fungsi yang umum digunakan di Python antara lain print(), len(), input(), sum(), dll.\n",
        "\n",
        "Berikut adalah contoh penggunaan fungsi print() untuk menampilkan pesan pada konsol:"
      ],
      "metadata": {
        "id": "QiwTQF7mCZ6T"
      }
    },
    {
      "cell_type": "code",
      "source": [
        "print(\"Halo, Dunia!\")\n"
      ],
      "metadata": {
        "colab": {
          "base_uri": "https://localhost:8080/"
        },
        "id": "ojT3eyqzCQ-C",
        "outputId": "ddbeab19-e2e2-44ea-ba51-ef82b9903707"
      },
      "execution_count": 1,
      "outputs": [
        {
          "output_type": "stream",
          "name": "stdout",
          "text": [
            "Halo, Dunia!\n"
          ]
        }
      ]
    },
    {
      "cell_type": "markdown",
      "source": [
        "## Fungsi yang Didefinisikan oleh Pengguna\n",
        "\n",
        "Selain fungsi yang telah ditentukan sebelumnya, Python juga memungkinkan Anda untuk mendefinisikan fungsi-fungsi sendiri sesuai dengan kebutuhan Anda. Fungsi-fungsi yang didefinisikan oleh pengguna memberikan cara untuk mengelompokkan serangkaian instruksi ke dalam satu entitas yang dapat dipanggil beberapa kali di seluruh program.\n",
        "\n",
        "Untuk mendefinisikan fungsi yang didefinisikan oleh pengguna di Python, Anda perlu mengikuti langkah-langkah dasar berikut:\n",
        "\n",
        "Gunakan kata kunci def, diikuti dengan nama fungsi dan tanda kurung ().\n",
        "Opsional, tentukan parameter di dalam tanda kurung untuk menerima nilai masukan.\n",
        "Gunakan titik dua : untuk menandai awal dari tubuh fungsi.\n",
        "Indentasikan kode di dalam tubuh fungsi untuk menentukan instruksi yang akan dijalankan.\n",
        "Opsional, gunakan pernyataan return untuk menentukan nilai yang akan dikembalikan oleh fungsi.\n",
        "Berikut adalah contoh fungsi yang didefinisikan oleh pengguna untuk menjumlahkan dua angka dan mengembalikan hasilnya:"
      ],
      "metadata": {
        "id": "UYuWrEOrCgms"
      }
    },
    {
      "cell_type": "code",
      "source": [
        "def jumlahkan_angka(a, b):\n",
        "    hasil = a + b\n",
        "    return hasil\n"
      ],
      "metadata": {
        "id": "xm9yoMX9CeFs"
      },
      "execution_count": 2,
      "outputs": []
    },
    {
      "cell_type": "markdown",
      "source": [
        "## Memanggil Fungsi\n",
        "\n",
        "Untuk memanggil fungsi, cukup gunakan nama fungsi diikuti dengan tanda kurung (). Jika fungsi memiliki parameter, berikan nilai yang diperlukan di dalam tanda kurung."
      ],
      "metadata": {
        "id": "UxBKo5zaCl57"
      }
    },
    {
      "cell_type": "code",
      "source": [
        "hasil = jumlahkan_angka(3, 4)\n",
        "print(hasil)  # Output: 7\n"
      ],
      "metadata": {
        "colab": {
          "base_uri": "https://localhost:8080/"
        },
        "id": "GGyWRMBxCpWc",
        "outputId": "f1f5a6b0-8fde-4f29-9e51-58aa05312657"
      },
      "execution_count": 3,
      "outputs": [
        {
          "output_type": "stream",
          "name": "stdout",
          "text": [
            "7\n"
          ]
        }
      ]
    },
    {
      "cell_type": "markdown",
      "source": [
        "## Menggunakan Pernyataan if/else dan Perulangan dalam Fungsi\n",
        "\n",
        "Anda dapat menyertakan pernyataan kondisional (if/else) dan perulangan di dalam fungsi-fungsi Anda untuk menambah fleksibilitas dan mengatur aliran eksekusi.\n",
        "\n",
        "### Pernyataan if/else\n",
        "Pernyataan if/else digunakan untuk membuat keputusan berdasarkan kondisi yang diberikan. Pada blok if, jika kondisi bernilai benar (True), maka blok kode yang terkait akan dijalankan. Jika kondisi bernilai salah (False), maka blok else yang terkait akan dijalankan.\n",
        "\n",
        "Berikut adalah contoh penggunaan pernyataan if/else di dalam fungsi untuk menentukan apakah suatu angka merupakan bilangan genap atau ganjil:"
      ],
      "metadata": {
        "id": "FQFrsYVSCuIw"
      }
    },
    {
      "cell_type": "code",
      "source": [
        "def cek_genap_ganjil(angka):\n",
        "    if angka % 2 == 0:\n",
        "        print(\"Angka\", angka, \"adalah bilangan genap\")\n",
        "    else:\n",
        "        print(\"Angka\", angka, \"adalah bilangan ganjil\")\n",
        "\n",
        "cek_genap_ganjil(5)   # Output: Angka 5 adalah bilangan ganjil\n"
      ],
      "metadata": {
        "colab": {
          "base_uri": "https://localhost:8080/"
        },
        "id": "JmpOJZriCqsQ",
        "outputId": "fea97e31-fe68-4ac5-dfb9-1e732df4fa1e"
      },
      "execution_count": 4,
      "outputs": [
        {
          "output_type": "stream",
          "name": "stdout",
          "text": [
            "Angka 5 adalah bilangan ganjil\n"
          ]
        }
      ]
    },
    {
      "cell_type": "markdown",
      "source": [
        "### Perulangan\n",
        "Perulangan memungkinkan Anda untuk menjalankan serangkaian instruksi berulang kali. Dalam Python, terdapat beberapa jenis perulangan yang dapat Anda gunakan, seperti perulangan for dan while.\n",
        "\n",
        "Berikut adalah contoh penggunaan perulangan for di dalam fungsi untuk mencetak elemen-elemen dalam daftar:"
      ],
      "metadata": {
        "id": "EYfqiG2YCy3Y"
      }
    },
    {
      "cell_type": "code",
      "source": [
        "def cetak_daftar(daftar):\n",
        "    for elemen in daftar:\n",
        "        print(elemen)\n",
        "\n",
        "buah = [\"apel\", \"mangga\", \"pisang\"]\n",
        "cetak_daftar(buah)\n"
      ],
      "metadata": {
        "colab": {
          "base_uri": "https://localhost:8080/"
        },
        "id": "kxaLfl5AC18H",
        "outputId": "dbff316e-ce00-4138-ae37-651a73b86c2f"
      },
      "execution_count": 5,
      "outputs": [
        {
          "output_type": "stream",
          "name": "stdout",
          "text": [
            "apel\n",
            "mangga\n",
            "pisang\n"
          ]
        }
      ]
    },
    {
      "cell_type": "markdown",
      "source": [
        "### Pengaturan Nilai Argumen Default dalam Fungsi\n",
        "Anda dapat memberikan nilai default kepada parameter dalam fungsi. Jika suatu parameter tidak diberikan nilai saat pemanggilan fungsi, nilai default akan digunakan."
      ],
      "metadata": {
        "id": "h73cWRsVC9mX"
      }
    },
    {
      "cell_type": "code",
      "source": [
        "def sapa(nama=\"Pengguna\"):\n",
        "    print(\"Halo,\", nama)\n",
        "\n",
        "sapa()              # Output: Halo, Pengguna\n",
        "sapa(\"John\")        # Output: Halo, John\n"
      ],
      "metadata": {
        "colab": {
          "base_uri": "https://localhost:8080/"
        },
        "id": "nvbaCZidC5R9",
        "outputId": "454d8bee-d3a8-4457-a281-a28b402e5a6f"
      },
      "execution_count": 6,
      "outputs": [
        {
          "output_type": "stream",
          "name": "stdout",
          "text": [
            "Halo, Pengguna\n",
            "Halo, John\n"
          ]
        }
      ]
    },
    {
      "cell_type": "markdown",
      "source": [
        "## Lingkup Variabel\n",
        "\n",
        "Lingkup variabel adalah bagian dari program di mana variabel tersebut dapat diakses. Di Python, variabel yang didefinisikan di dalam suatu fungsi memiliki lingkup lokal dan hanya dapat diakses di dalam fungsi tersebut. Variabel yang didefinisikan di luar fungsi memiliki lingkup global dan dapat diakses dari bagian mana pun dalam program."
      ],
      "metadata": {
        "id": "w0UuQb5MDAlY"
      }
    },
    {
      "cell_type": "code",
      "source": [
        "def lingkup_lokal():\n",
        "    # Variabel lokal\n",
        "    y = 5\n",
        "    print(y)   # Output: 5\n",
        "\n",
        "lingkup_lokal()\n",
        "# print(y)  # Ini akan menghasilkan kesalahan karena y tidak dapat diakses di sini\n",
        "\n",
        "# Variabel global\n",
        "z = 15\n",
        "\n",
        "def lingkup_global():\n",
        "    print(z)   # Output: 15\n",
        "\n",
        "lingkup_global()\n"
      ],
      "metadata": {
        "colab": {
          "base_uri": "https://localhost:8080/"
        },
        "id": "70N-fguhDKkv",
        "outputId": "dd5ba137-7ab3-4c4e-d40b-30cac4b7b64e"
      },
      "execution_count": 7,
      "outputs": [
        {
          "output_type": "stream",
          "name": "stdout",
          "text": [
            "5\n",
            "15\n"
          ]
        }
      ]
    },
    {
      "cell_type": "markdown",
      "source": [
        "## Koleksi dan Fungsi\n",
        "\n",
        "Jika jumlah argumen tidak diketahui untuk suatu fungsi, semua argumen dapat dikemas ke dalam tuple seperti yang ditunjukkan berikut:"
      ],
      "metadata": {
        "id": "-yQ09vIVDMjg"
      }
    },
    {
      "cell_type": "code",
      "source": [
        "def fungsi_tanpa_batas(*args):\n",
        "    for arg in args:\n",
        "        print(arg)\n",
        "\n",
        "fungsi_tanpa_batas(1, 2, 3)     # Output: 1 2 3\n",
        "fungsi_tanpa_batas('a', 'b')    # Output: a b\n"
      ],
      "metadata": {
        "colab": {
          "base_uri": "https://localhost:8080/"
        },
        "id": "JvWBXEA8DQlg",
        "outputId": "9f02cb31-4e48-4cdc-a621-669ae1b05b43"
      },
      "execution_count": 8,
      "outputs": [
        {
          "output_type": "stream",
          "name": "stdout",
          "text": [
            "1\n",
            "2\n",
            "3\n",
            "a\n",
            "b\n"
          ]
        }
      ]
    },
    {
      "cell_type": "markdown",
      "source": [
        "## Contoh - contoh fungsi matematika\n",
        "\n",
        "Pada contoh di bawah, terdapat beberapa fungsi yang memiliki logika yang lebih kompleks. Fungsi faktorial menggunakan rekursi untuk menghitung faktorial dari suatu bilangan. Fungsi hitung_jumlah menghitung jumlah dari suatu daftar angka. Fungsi hitung_rata menggunakan fungsi hitung_jumlah untuk menghitung rata-rata dari suatu daftar angka. Terakhir, fungsi urutkan_daftar menggunakan metode pengurutan gelembung untuk mengurutkan suatu daftar angka.\n",
        "\n",
        "Semoga contoh tersebut memberikan gambaran tentang penggunaan fungsi yang kompleks dan lanjutan dalam Python. Anda dapat mengadaptasi dan memodifikasi fungsi-fungsi tersebut sesuai kebutuhan Anda."
      ],
      "metadata": {
        "id": "jSqzJJB3Dabf"
      }
    },
    {
      "cell_type": "code",
      "source": [
        "# Fungsi untuk menghitung faktorial menggunakan rekursi\n",
        "def faktorial(n):\n",
        "    if n == 0:\n",
        "        return 1\n",
        "    else:\n",
        "        return n * faktorial(n - 1)\n",
        "\n",
        "# Fungsi untuk menghitung jumlah bilangan dalam suatu daftar\n",
        "def hitung_jumlah(daftar):\n",
        "    total = 0\n",
        "    for angka in daftar:\n",
        "        total += angka\n",
        "    return total\n",
        "\n",
        "# Fungsi untuk menghitung rata-rata dari suatu daftar\n",
        "def hitung_rata(daftar):\n",
        "    total = hitung_jumlah(daftar)\n",
        "    rata = total / len(daftar)\n",
        "    return rata\n",
        "\n",
        "# Fungsi untuk mengurutkan suatu daftar dengan metode pengurutan gelembung\n",
        "def urutkan_daftar(daftar):\n",
        "    n = len(daftar)\n",
        "    for i in range(n):\n",
        "        for j in range(n - i - 1):\n",
        "            if daftar[j] > daftar[j + 1]:\n",
        "                daftar[j], daftar[j + 1] = daftar[j + 1], daftar[j]\n",
        "    return daftar\n",
        "\n",
        "# Contoh pemanggilan fungsi\n",
        "angka = 5\n",
        "hasil_faktorial = faktorial(angka)\n",
        "print(\"Faktorial dari\", angka, \"adalah\", hasil_faktorial)\n",
        "\n",
        "daftar_angka = [1, 2, 3, 4, 5]\n",
        "jumlah = hitung_jumlah(daftar_angka)\n",
        "rata_rata = hitung_rata(daftar_angka)\n",
        "print(\"Jumlah angka dalam daftar:\", jumlah)\n",
        "print(\"Rata-rata angka dalam daftar:\", rata_rata)\n",
        "\n",
        "daftar_terurut = urutkan_daftar(daftar_angka)\n",
        "print(\"Daftar terurut:\", daftar_terurut)\n"
      ],
      "metadata": {
        "colab": {
          "base_uri": "https://localhost:8080/"
        },
        "id": "_3AA1jmODjh1",
        "outputId": "a16be163-6a49-4210-d1b8-8ae1266e2689"
      },
      "execution_count": 9,
      "outputs": [
        {
          "output_type": "stream",
          "name": "stdout",
          "text": [
            "Faktorial dari 5 adalah 120\n",
            "Jumlah angka dalam daftar: 15\n",
            "Rata-rata angka dalam daftar: 3.0\n",
            "Daftar terurut: [1, 2, 3, 4, 5]\n"
          ]
        }
      ]
    },
    {
      "cell_type": "markdown",
      "source": [
        "## Contoh - contoh fungsi di bidang data science\n",
        "\n",
        "### Simple moving average\n",
        "Pada contoh ini, fungsi simple_moving_average menerima dua argumen, yaitu data yang merupakan daftar angka yang akan dihitung SMA-nya, dan window_size yang merupakan ukuran jendela (window size) untuk menghitung SMA.\n",
        "\n",
        "Fungsi tersebut melakukan iterasi melalui daftar data dengan menggeser jendela sepanjang window_size. Pada setiap iterasi, fungsi mengambil potongan jendela dan menghitung rata-rata dari angka-angka di dalamnya. Rata-rata tersebut kemudian ditambahkan ke daftar SMA (sma).\n",
        "\n",
        "Setelah semua iterasi selesai, fungsi mengembalikan daftar SMA yang telah dihitung. Pada contoh di atas, hasil SMA akan dicetak sebagai output."
      ],
      "metadata": {
        "id": "l4o2RpwWD1ok"
      }
    },
    {
      "cell_type": "code",
      "source": [
        "def simple_moving_average(data, window_size):\n",
        "    sma = []\n",
        "    for i in range(len(data) - window_size + 1):\n",
        "        window = data[i:i+window_size]\n",
        "        average = sum(window) / window_size\n",
        "        sma.append(average)\n",
        "    return sma\n",
        "\n",
        "# Contoh pemanggilan fungsi\n",
        "data = [1, 2, 3, 4, 5, 6, 7, 8, 9, 10]\n",
        "window_size = 3\n",
        "sma = simple_moving_average(data, window_size)\n",
        "print(\"Simple Moving Average:\", sma)\n"
      ],
      "metadata": {
        "colab": {
          "base_uri": "https://localhost:8080/"
        },
        "id": "vRbO7tDZD7Jv",
        "outputId": "e4490a3e-3a19-48c3-bbb3-b756538183ba"
      },
      "execution_count": 10,
      "outputs": [
        {
          "output_type": "stream",
          "name": "stdout",
          "text": [
            "Simple Moving Average: [2.0, 3.0, 4.0, 5.0, 6.0, 7.0, 8.0, 9.0]\n"
          ]
        }
      ]
    },
    {
      "cell_type": "markdown",
      "source": [
        "### Simple Linear Regression\n",
        "\n",
        "Pada contoh ini, fungsi simple_linear_regression menerima dua argumen, yaitu x dan y, yang merupakan dua set data yang akan digunakan untuk menghitung regresi linier sederhana.\n",
        "\n",
        "Fungsi tersebut menggunakan formula regresi linier sederhana untuk menghitung koefisien regresi (slope) dan intercept. Formula tersebut mengggunakan metode kecocokan terkecil kuadrat untuk menemukan garis regresi yang terbaik untuk memodelkan hubungan antara dua set data.\n",
        "\n",
        "Setelah perhitungan selesai, fungsi mengembalikan slope (kemiringan garis regresi) dan intercept (titik perpotongan garis regresi dengan sumbu y). Pada contoh di atas, hasil koefisien regresi akan dicetak sebagai output.\n",
        "\n",
        "Anda dapat mencoba menjalankan contoh tersebut dengan mengganti nilai x dan y sesuai dengan data yang ingin Anda gunakan."
      ],
      "metadata": {
        "id": "GLO-lVgvESw_"
      }
    },
    {
      "cell_type": "code",
      "source": [
        "def simple_linear_regression(x, y):\n",
        "    n = len(x)\n",
        "    sum_x = sum(x)\n",
        "    sum_y = sum(y)\n",
        "    sum_xy = sum([xi * yi for xi, yi in zip(x, y)])\n",
        "    sum_x2 = sum([xi ** 2 for xi in x])\n",
        "\n",
        "    # Menghitung koefisien regresi\n",
        "    slope = (n * sum_xy - sum_x * sum_y) / (n * sum_x2 - sum_x ** 2)\n",
        "    intercept = (sum_y - slope * sum_x) / n\n",
        "\n",
        "    return slope, intercept\n",
        "\n",
        "# Contoh pemanggilan fungsi\n",
        "x = [1, 2, 3, 4, 5]\n",
        "y = [2, 4, 5, 4, 6]\n",
        "slope, intercept = simple_linear_regression(x, y)\n",
        "print(\"Slope:\", slope)\n",
        "print(\"Intercept:\", intercept)\n"
      ],
      "metadata": {
        "colab": {
          "base_uri": "https://localhost:8080/"
        },
        "id": "jAIZDSvMEL6E",
        "outputId": "226b52de-dd32-490f-8333-29cdd3a1ace3"
      },
      "execution_count": 11,
      "outputs": [
        {
          "output_type": "stream",
          "name": "stdout",
          "text": [
            "Slope: 0.8\n",
            "Intercept: 1.8\n"
          ]
        }
      ]
    },
    {
      "cell_type": "markdown",
      "source": [
        "Output yang dihasilkan akan menunjukkan koefisien regresi (slope) dan konstanta (intercept) dari garis regresi linear yang dihasilkan. Selanjutnya, kita dapat menggunakan garis regresi ini untuk memprediksi nilai y berdasarkan nilai x yang baru. Dalam contoh ini, kita memprediksi nilai y untuk x = 6. Hasil prediksi tersebut akan dicetak sebagai output."
      ],
      "metadata": {
        "id": "C_WD9KjUFxd7"
      }
    },
    {
      "cell_type": "code",
      "source": [
        "# Prediksi menggunakan garis regresi\n",
        "x_pred = 6\n",
        "y_pred = slope * x_pred + intercept\n",
        "print(\"Predicted value for x =\", x_pred, \":\", y_pred)"
      ],
      "metadata": {
        "colab": {
          "base_uri": "https://localhost:8080/"
        },
        "id": "KS5pclRyEeY-",
        "outputId": "124c359f-bc77-4385-e796-42b04f0e0c77"
      },
      "execution_count": 12,
      "outputs": [
        {
          "output_type": "stream",
          "name": "stdout",
          "text": [
            "Predicted value for x = 6 : 6.6000000000000005\n"
          ]
        }
      ]
    },
    {
      "cell_type": "markdown",
      "source": [
        "### Perceptron\n",
        "\n",
        "Pada contoh ini, fungsi perceptron_xor menerima dua argumen, yaitu x1 dan x2, yang merepresentasikan input untuk kasus XOR. Fungsi tersebut menggunakan perceptron dengan bobot [-1, 1] dan bias 0 untuk memodelkan fungsi XOR.\n",
        "\n",
        "Input x1 dan x2 dikalikan dengan bobot dan dijumlahkan dengan bias. Kemudian, hasilnya diaktivasi menggunakan fungsi threshold. Jika hasil aktivasi lebih besar dari 0, fungsi akan mengembalikan 1, jika tidak, fungsi akan mengembalikan 0.\n",
        "\n",
        "Anda dapat mencoba menjalankan contoh tersebut dengan mengubah nilai x1 dan x2 sesuai dengan input yang ingin Anda uji. Output dari fungsi perceptron_xor akan mencerminkan hasil operasi XOR dari input tersebut."
      ],
      "metadata": {
        "id": "Qnl031YWF-gP"
      }
    },
    {
      "cell_type": "code",
      "source": [
        "import numpy as np\n",
        "\n",
        "def perceptron_xor(x1, x2):\n",
        "    # Definisikan bobot dan bias\n",
        "    weights = np.array([-1, 1])  # Bobot [w1, w2]\n",
        "    bias = 0  # Bias\n",
        "    \n",
        "    # Transformasikan input menjadi array numpy\n",
        "    x = np.array([x1, x2])\n",
        "    \n",
        "    # Hitung aktivasi perceptron\n",
        "    activation = np.dot(weights, x) + bias\n",
        "    \n",
        "    # Terapkan fungsi aktivasi (threshold)\n",
        "    if activation > 0:\n",
        "        return 1\n",
        "    else:\n",
        "        return 0\n",
        "\n",
        "# Contoh pemanggilan fungsi perceptron_xor\n",
        "print(perceptron_xor(0, 0))  # Output: 0\n",
        "print(perceptron_xor(0, 1))  # Output: 1\n",
        "print(perceptron_xor(1, 0))  # Output: 1\n",
        "print(perceptron_xor(1, 1))  # Output: 0\n"
      ],
      "metadata": {
        "colab": {
          "base_uri": "https://localhost:8080/"
        },
        "id": "48Fmi3mzFThM",
        "outputId": "22dff6a1-d8d5-48e5-c8a4-5cdb2c419c51"
      },
      "execution_count": 13,
      "outputs": [
        {
          "output_type": "stream",
          "name": "stdout",
          "text": [
            "0\n",
            "1\n",
            "0\n",
            "0\n"
          ]
        }
      ]
    }
  ]
}