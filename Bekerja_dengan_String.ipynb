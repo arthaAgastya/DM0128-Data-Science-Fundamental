{
  "nbformat": 4,
  "nbformat_minor": 0,
  "metadata": {
    "colab": {
      "provenance": [],
      "authorship_tag": "ABX9TyPXgpHnDRKAzKOkgUjRDmJp",
      "include_colab_link": true
    },
    "kernelspec": {
      "name": "python3",
      "display_name": "Python 3"
    },
    "language_info": {
      "name": "python"
    }
  },
  "cells": [
    {
      "cell_type": "markdown",
      "metadata": {
        "id": "view-in-github",
        "colab_type": "text"
      },
      "source": [
        "<a href=\"https://colab.research.google.com/github/arthaAgastya/Data-Science-Fundamental/blob/main/Cara_bekerja_dengan_String.ipynb\" target=\"_parent\"><img src=\"https://colab.research.google.com/assets/colab-badge.svg\" alt=\"Open In Colab\"/></a>"
      ]
    },
    {
      "cell_type": "code",
      "execution_count": 1,
      "metadata": {
        "id": "jWrjrM-okMwg",
        "colab": {
          "base_uri": "https://localhost:8080/",
          "height": 35
        },
        "outputId": "24d6664b-3006-440a-f340-9d0d43795648"
      },
      "outputs": [
        {
          "output_type": "execute_result",
          "data": {
            "text/plain": [
              "'Budiari Rowenin'"
            ],
            "application/vnd.google.colaboratory.intrinsic+json": {
              "type": "string"
            }
          },
          "metadata": {},
          "execution_count": 1
        }
      ],
      "source": [
        "\"\"\"Apa itu String?\n",
        "Berikut adalah contoh String yang dikelilingi oleh tanda kutip:\n",
        "Gunakan tanda kutip untuk mendefinisikan String\"\"\"\n",
        "\n",
        "\"Budiari Rowenin\"\n"
      ]
    },
    {
      "cell_type": "code",
      "source": [
        "\"\"\"Kita juga dapat menggunakan tanda kutip tunggal:\n",
        "Gunakan tanda kutip tunggal untuk mendefinisikan String\"\"\"\n",
        "\n",
        "'Budiari Rowenin'"
      ],
      "metadata": {
        "colab": {
          "base_uri": "https://localhost:8080/",
          "height": 35
        },
        "id": "7KU97GJhnVZG",
        "outputId": "d472dba2-9760-4e4d-d5d0-1e53145df2de"
      },
      "execution_count": 2,
      "outputs": [
        {
          "output_type": "execute_result",
          "data": {
            "text/plain": [
              "'Budiari Rowenin'"
            ],
            "application/vnd.google.colaboratory.intrinsic+json": {
              "type": "string"
            }
          },
          "metadata": {},
          "execution_count": 2
        }
      ]
    },
    {
      "cell_type": "code",
      "source": [
        "\"\"\"Sebuah String dapat berupa kombinasi spasi dan angka: \n",
        "Angka dan spasi dalam String\"\"\"\n",
        "\n",
        "'1 2 3 4 5 6 '"
      ],
      "metadata": {
        "colab": {
          "base_uri": "https://localhost:8080/",
          "height": 35
        },
        "id": "KDNLjCiBnUNN",
        "outputId": "8a388ef0-bfee-42f5-ab40-4927f43c4ff5"
      },
      "execution_count": 3,
      "outputs": [
        {
          "output_type": "execute_result",
          "data": {
            "text/plain": [
              "'1 2 3 4 5 6 '"
            ],
            "application/vnd.google.colaboratory.intrinsic+json": {
              "type": "string"
            }
          },
          "metadata": {},
          "execution_count": 3
        }
      ]
    },
    {
      "cell_type": "code",
      "source": [
        "\"\"\"Sebuah String juga dapat berupa kombinasi karakter khusus : \n",
        "Karakter khusus dalam String\"\"\"\n",
        "\n",
        "'@#2_#]&*^%$'"
      ],
      "metadata": {
        "colab": {
          "base_uri": "https://localhost:8080/",
          "height": 35
        },
        "id": "TJMOagutnQ_7",
        "outputId": "70bfeab5-3f81-454a-e71e-714a3fd77352"
      },
      "execution_count": 4,
      "outputs": [
        {
          "output_type": "execute_result",
          "data": {
            "text/plain": [
              "'@#2_#]&*^%$'"
            ],
            "application/vnd.google.colaboratory.intrinsic+json": {
              "type": "string"
            }
          },
          "metadata": {},
          "execution_count": 4
        }
      ]
    },
    {
      "cell_type": "code",
      "source": [
        "\"\"\"Kita dapat mencetak String menggunakan pernyataan print:\n",
        "\"\"\"\n",
        "# Cetak String\n",
        "print(\"Halo!\")"
      ],
      "metadata": {
        "colab": {
          "base_uri": "https://localhost:8080/"
        },
        "id": "WsTi2mTQnMO4",
        "outputId": "36069626-613c-47f1-c2e9-d7998e83bea0"
      },
      "execution_count": 5,
      "outputs": [
        {
          "output_type": "stream",
          "name": "stdout",
          "text": [
            "Halo!\n"
          ]
        }
      ]
    },
    {
      "cell_type": "code",
      "source": [
        "\"\"\"Kita dapat mengikat atau menugaskan String ke variabel lain:\n",
        "\"\"\"\n",
        "# Menugaskan String ke variabel\n",
        "\n",
        "nama = \"Budiari Rowenin\"\n",
        "nama"
      ],
      "metadata": {
        "colab": {
          "base_uri": "https://localhost:8080/",
          "height": 35
        },
        "id": "O4ll0N9gnB0t",
        "outputId": "927905a5-04d8-40e0-8c3d-ddc5c01c5ed1"
      },
      "execution_count": 6,
      "outputs": [
        {
          "output_type": "execute_result",
          "data": {
            "text/plain": [
              "'Budiari Rowenin'"
            ],
            "application/vnd.google.colaboratory.intrinsic+json": {
              "type": "string"
            }
          },
          "metadata": {},
          "execution_count": 6
        }
      ]
    },
    {
      "cell_type": "code",
      "source": [
        "\"\"\"\n",
        "Indeks\n",
        "\n",
        "Berguna untuk memandang String sebagai urutan terurut. Setiap elemen dalam urutan dapat diakses menggunakan indeks yang direpresentasikan oleh rangkaian angka:\n",
        "Indeks pertama dapat diakses sebagai berikut:\n",
        "[Petunjuk]: Karena indeks dimulai dari 0, artinya indeks pertama berada di indeks 0.\n",
        "\"\"\"\n",
        "\n",
        "# Cetak elemen pertama dalam String\n",
        "print(nama[0])"
      ],
      "metadata": {
        "colab": {
          "base_uri": "https://localhost:8080/"
        },
        "id": "1b5cLjycnBuD",
        "outputId": "1da3750c-03b8-49ba-f2cc-a84f677f9bc1"
      },
      "execution_count": 7,
      "outputs": [
        {
          "output_type": "stream",
          "name": "stdout",
          "text": [
            "B\n"
          ]
        }
      ]
    },
    {
      "cell_type": "code",
      "source": [
        "\"\"\"Kita dapat mengakses indeks 6:\n",
        "\"\"\"\n",
        "\n",
        "# Cetak elemen pada indeks 6 dalam String\n",
        "print(nama[6])"
      ],
      "metadata": {
        "colab": {
          "base_uri": "https://localhost:8080/"
        },
        "id": "cHZF8_kInBrS",
        "outputId": "4c857f35-6e94-4ecd-c1e0-afd677fd0190"
      },
      "execution_count": 8,
      "outputs": [
        {
          "output_type": "stream",
          "name": "stdout",
          "text": [
            "i\n"
          ]
        }
      ]
    },
    {
      "cell_type": "code",
      "source": [
        "\"\"\"Selain itu, kita dapat mengakses indeks ke-13:\n",
        "\"\"\"\n",
        "\n",
        "# Cetak elemen pada indeks 13 dalam String\n",
        "print(nama[13])"
      ],
      "metadata": {
        "colab": {
          "base_uri": "https://localhost:8080/"
        },
        "id": "KH6zGkR6nBoz",
        "outputId": "21da950b-f6c0-4571-f9e7-ede950eb22ce"
      },
      "execution_count": 9,
      "outputs": [
        {
          "output_type": "stream",
          "name": "stdout",
          "text": [
            "i\n"
          ]
        }
      ]
    },
    {
      "cell_type": "code",
      "source": [
        "\"\"\"Indeks Negatif\n",
        "Kita juga dapat menggunakan indeks negatif dengan String:\n",
        "Indeks negatif dapat membantu kita menghitung elemen dari akhir String.\n",
        "Elemen terakhir diberikan oleh indeks -1:\n",
        "\"\"\"\n",
        "\n",
        "# Cetak elemen terakhir dalam String\n",
        "print(nama[-1])\n"
      ],
      "metadata": {
        "colab": {
          "base_uri": "https://localhost:8080/"
        },
        "id": "Lajw9YJlm80w",
        "outputId": "2c62b605-b416-4f6c-acb1-1fa708fb6874"
      },
      "execution_count": 10,
      "outputs": [
        {
          "output_type": "stream",
          "name": "stdout",
          "text": [
            "n\n"
          ]
        }
      ]
    },
    {
      "cell_type": "code",
      "source": [
        "\"\"\" Elemen pertama dapat diperoleh dengan indeks -15:\n",
        "\"\"\"\n",
        "\n",
        "# Cetak elemen pertama dalam String\n",
        "print(nama[-15])"
      ],
      "metadata": {
        "colab": {
          "base_uri": "https://localhost:8080/"
        },
        "id": "glN6xdX9m8x4",
        "outputId": "a7a413db-6384-4862-9c97-bf5f72cf8844"
      },
      "execution_count": 11,
      "outputs": [
        {
          "output_type": "stream",
          "name": "stdout",
          "text": [
            "B\n"
          ]
        }
      ]
    },
    {
      "cell_type": "code",
      "source": [
        "\"\"\"Kita dapat menemukan jumlah karakter dalam sebuah String dengan menggunakan len, singkatan dari length:\n",
        "\"\"\"\n",
        "\n",
        "# Temukan panjang String\n",
        "len(\"Budiari Rowenin\")"
      ],
      "metadata": {
        "colab": {
          "base_uri": "https://localhost:8080/"
        },
        "id": "dr5unjNXm8vQ",
        "outputId": "86aa171a-7f1d-44d8-fee6-ac05d03e90f9"
      },
      "execution_count": 12,
      "outputs": [
        {
          "output_type": "execute_result",
          "data": {
            "text/plain": [
              "15"
            ]
          },
          "metadata": {},
          "execution_count": 12
        }
      ]
    },
    {
      "cell_type": "code",
      "source": [
        "\"\"\"Slicing\n",
        "Kita dapat memperoleh beberapa karakter dari sebuah String menggunakan slicing, kita dapat memperoleh elemen dari indeks 0 hingga 4 dan 8 hingga 12:\n",
        "[Petunjuk]: Saat menggunakan slicing, angka pertama menunjukkan indeks (dimulai dari 0), dan angka kedua menunjukkan panjang dari indeks hingga elemen terakhir yang diinginkan (dimulai dari 1)\n",
        "\"\"\"\n",
        "\n",
        "# Ambil potongan pada variabel nama dengan hanya indeks 0 hingga indeks 3\n",
        "nama[0:4]\n",
        "\n",
        "# Ambil potongan pada variabel nama dengan hanya indeks 8 hingga indeks 11\n",
        "nama[8:12]"
      ],
      "metadata": {
        "colab": {
          "base_uri": "https://localhost:8080/",
          "height": 35
        },
        "id": "5y3l4lBtm8qI",
        "outputId": "77e48393-7845-4c69-dc1c-bf4028bfa589"
      },
      "execution_count": 13,
      "outputs": [
        {
          "output_type": "execute_result",
          "data": {
            "text/plain": [
              "'Rowe'"
            ],
            "application/vnd.google.colaboratory.intrinsic+json": {
              "type": "string"
            }
          },
          "metadata": {},
          "execution_count": 13
        }
      ]
    },
    {
      "cell_type": "code",
      "source": [
        "\"\"\"Urutan\n",
        "Kita juga dapat memasukkan nilai urutan sebagai berikut, dengan '2' menunjukkan bahwa kita memilih setiap elemen variabel:\n",
        "\"\"\"\n",
        "\n",
        "# Dapatkan setiap elemen kedua. Elemen pada indeks 1, 3, 5 ...\n",
        "nama[::2]"
      ],
      "metadata": {
        "colab": {
          "base_uri": "https://localhost:8080/",
          "height": 35
        },
        "id": "ZYdM_bm1m8nQ",
        "outputId": "d5391bc1-2fe9-46e3-b802-8864b72d73d3"
      },
      "execution_count": 14,
      "outputs": [
        {
          "output_type": "execute_result",
          "data": {
            "text/plain": [
              "'BdaiRwnn'"
            ],
            "application/vnd.google.colaboratory.intrinsic+json": {
              "type": "string"
            }
          },
          "metadata": {},
          "execution_count": 14
        }
      ]
    },
    {
      "cell_type": "code",
      "source": [
        "\"\"\"Kita juga dapat menggabungkan slicing dengan urutan. Dalam hal ini, kita memilih lima elemen pertama dan kemudian menggunakan urutan: \n",
        "\"\"\"\n",
        "\n",
        "# Dapatkan setiap elemen kedua dalam rentang dari indeks 0 hingga indeks 4\n",
        "nama[0:5:2]"
      ],
      "metadata": {
        "colab": {
          "base_uri": "https://localhost:8080/",
          "height": 35
        },
        "id": "8Y8sGc0VmwND",
        "outputId": "ee982b93-742e-4f98-f1ee-a44cfd68dc16"
      },
      "execution_count": 15,
      "outputs": [
        {
          "output_type": "execute_result",
          "data": {
            "text/plain": [
              "'Bda'"
            ],
            "application/vnd.google.colaboratory.intrinsic+json": {
              "type": "string"
            }
          },
          "metadata": {},
          "execution_count": 15
        }
      ]
    },
    {
      "cell_type": "code",
      "source": [
        "\"\"\"Menggabungkan String\n",
        "Kita dapat menggabungkan atau menggabungkan String dengan menggunakan simbol penambahan, dan hasilnya adalah String baru yang merupakan gabungan keduanya:\n",
        "\"\"\"\n",
        "\n",
        "# Menggabungkan dua String\n",
        "pernyataan = nama + \" adalah yang terbaik\"\n",
        "pernyataan"
      ],
      "metadata": {
        "colab": {
          "base_uri": "https://localhost:8080/",
          "height": 35
        },
        "id": "Lezz3VsXmwKZ",
        "outputId": "3c14bc7b-d18e-4545-ece2-953632933434"
      },
      "execution_count": 16,
      "outputs": [
        {
          "output_type": "execute_result",
          "data": {
            "text/plain": [
              "'Budiari Rowenin adalah yang terbaik'"
            ],
            "application/vnd.google.colaboratory.intrinsic+json": {
              "type": "string"
            }
          },
          "metadata": {},
          "execution_count": 16
        }
      ]
    },
    {
      "cell_type": "code",
      "source": [
        "\"\"\"Untuk menggandakan nilai String, kita cukup mengalikan String dengan jumlah kali yang diinginkan. Dalam hal ini, jumlahnya adalah tiga. Hasilnya adalah String baru, dan String baru ini terdiri dari tiga salinan String asli:\n",
        "\"\"\"\n",
        "\n",
        "# Cetak String sebanyak 3 kali\n",
        "3 * \"Budiari Rowenin\""
      ],
      "metadata": {
        "colab": {
          "base_uri": "https://localhost:8080/",
          "height": 35
        },
        "id": "goAQM3X_mwH5",
        "outputId": "0c280cc2-b047-4ea5-e42b-660ad6873c47"
      },
      "execution_count": 17,
      "outputs": [
        {
          "output_type": "execute_result",
          "data": {
            "text/plain": [
              "'Budiari RoweninBudiari RoweninBudiari Rowenin'"
            ],
            "application/vnd.google.colaboratory.intrinsic+json": {
              "type": "string"
            }
          },
          "metadata": {},
          "execution_count": 17
        }
      ]
    },
    {
      "cell_type": "code",
      "source": [
        "\"\"\"Anda dapat membuat String baru dengan mengatur variabel baru. Digabungkan dengan String baru, hasilnya adalah String baru yang berubah dari Budiari Rowenin menjadi \"Budiari Rowenin adalah yang terbaik\".\n",
        "\"\"\"\n",
        "\n",
        "# Menggabungkan String\n",
        "nama = \"Budiari Rowenin\"\n",
        "nama = nama + \" adalah yang terbaik\"\n",
        "nama"
      ],
      "metadata": {
        "colab": {
          "base_uri": "https://localhost:8080/",
          "height": 35
        },
        "id": "bSq0OXl3mwCh",
        "outputId": "7827218f-f2d8-4280-e59e-3b4b22553200"
      },
      "execution_count": 18,
      "outputs": [
        {
          "output_type": "execute_result",
          "data": {
            "text/plain": [
              "'Budiari Rowenin adalah yang terbaik'"
            ],
            "application/vnd.google.colaboratory.intrinsic+json": {
              "type": "string"
            }
          },
          "metadata": {},
          "execution_count": 18
        }
      ]
    },
    {
      "cell_type": "code",
      "source": [
        "\"\"\"\n",
        "Karakter Escape\n",
        "Garis miring terbalik (\"backslash\") merupakan awal dari urutan escape. Urutan escape mewakili String yang mungkin sulit dimasukkan. Misalnya, garis miring terbalik \"n\" mewakili baris baru. Outputnya adalah baris baru setelah garis miring terbalik \"n\" ditemukan:\n",
        "\"\"\"\n",
        "\n",
        "# Urutan escape baris baru\n",
        "print(\"Budiari Rowenin \\n adalah yang terbaik\")"
      ],
      "metadata": {
        "colab": {
          "base_uri": "https://localhost:8080/"
        },
        "id": "QGPOGz00mv_x",
        "outputId": "469dd347-d238-429d-ddfc-47d4e1784944"
      },
      "execution_count": 19,
      "outputs": [
        {
          "output_type": "stream",
          "name": "stdout",
          "text": [
            "Budiari Rowenin \n",
            " adalah yang terbaik\n"
          ]
        }
      ]
    },
    {
      "cell_type": "code",
      "source": [
        "\"\"\"Demikian pula, garis miring terbalik \"t\" mewakili tabulasi: \n",
        "\"\"\"\n",
        "\n",
        "# Urutan escape tabulasi\n",
        "print(\"Budiari Rowenin \\t adalah yang terbaik\")"
      ],
      "metadata": {
        "colab": {
          "base_uri": "https://localhost:8080/"
        },
        "id": "JCUCcY69mv8S",
        "outputId": "21d00df9-374e-4c94-de79-3c451bdebb07"
      },
      "execution_count": 20,
      "outputs": [
        {
          "output_type": "stream",
          "name": "stdout",
          "text": [
            "Budiari Rowenin \t adalah yang terbaik\n"
          ]
        }
      ]
    },
    {
      "cell_type": "code",
      "source": [
        "\"\"\"Jika Anda ingin menempatkan garis miring terbalik dalam String Anda, gunakan dua garis miring terbalik:\n",
        "\"\"\"\n",
        "\n",
        "# Sertakan garis miring terbalik dalam String\n",
        "print(\"Budiari Rowenin \\\\ adalah yang terbaik\")"
      ],
      "metadata": {
        "colab": {
          "base_uri": "https://localhost:8080/"
        },
        "id": "1X9yySXZmdvB",
        "outputId": "ebd57911-7f8b-463b-dfc4-db69e5d417f3"
      },
      "execution_count": 21,
      "outputs": [
        {
          "output_type": "stream",
          "name": "stdout",
          "text": [
            "Budiari Rowenin \\ adalah yang terbaik\n"
          ]
        }
      ]
    },
    {
      "cell_type": "code",
      "source": [
        "# Sertakan garis miring terbalik dalam String\n",
        "print(\"Budiari Rowenin \\\\ adalah yang terbaik\")"
      ],
      "metadata": {
        "colab": {
          "base_uri": "https://localhost:8080/"
        },
        "id": "yInizwJKmdrP",
        "outputId": "97f27f40-4232-45bc-e398-e7f0966996c3"
      },
      "execution_count": 22,
      "outputs": [
        {
          "output_type": "stream",
          "name": "stdout",
          "text": [
            "Budiari Rowenin \\ adalah yang terbaik\n"
          ]
        }
      ]
    },
    {
      "cell_type": "code",
      "source": [
        "\"\"\"Kita juga dapat menempatkan \"r\" sebelum String untuk menampilkan garis miring terbalik:\n",
        "\"\"\"\n",
        "\n",
        "# r akan memberi tahu Python bahwa String akan ditampilkan sebagai raw String\n",
        "print(r\"Budiari Rowenin \\ adalah yang terbaik\")"
      ],
      "metadata": {
        "colab": {
          "base_uri": "https://localhost:8080/"
        },
        "id": "iM6kWd6Fmdof",
        "outputId": "07ddac31-8206-43cc-8417-1def0ef3ba2b"
      },
      "execution_count": 23,
      "outputs": [
        {
          "output_type": "stream",
          "name": "stdout",
          "text": [
            "Budiari Rowenin \\ adalah yang terbaik\n"
          ]
        }
      ]
    },
    {
      "cell_type": "code",
      "source": [
        "\"\"\"\n",
        "Operasi String\n",
        "Kita dapat melakukan beberapa operasi pada String. Misalnya, kita dapat mengubah semua karakter dalam String menjadi huruf kapital menggunakan metode upper():\n",
        "\"\"\"\n",
        "# Ubah String menjadi huruf besar\n",
        "\n",
        "a = \"Thriller\"\n",
        "a = a.upper()\n",
        "a"
      ],
      "metadata": {
        "colab": {
          "base_uri": "https://localhost:8080/",
          "height": 35
        },
        "id": "q_2uhoHWmdiX",
        "outputId": "1ddef252-e1c4-4010-d869-96a160da4bc2"
      },
      "execution_count": 24,
      "outputs": [
        {
          "output_type": "execute_result",
          "data": {
            "text/plain": [
              "'THRILLER'"
            ],
            "application/vnd.google.colaboratory.intrinsic+json": {
              "type": "string"
            }
          },
          "metadata": {},
          "execution_count": 24
        }
      ]
    },
    {
      "cell_type": "code",
      "source": [
        "\"\"\"Metode replace() menggantikan kemunculan pertama dari substring dengan substring lainnya:\n",
        "\"\"\"\n",
        "# Mengganti substring dalam String\n",
        "\n",
        "a = \"Budiari Rowenin adalah yang terbaik\"\n",
        "a = a.replace(\"Budiari \", \"Odena \")\n",
        "a\n"
      ],
      "metadata": {
        "colab": {
          "base_uri": "https://localhost:8080/",
          "height": 35
        },
        "id": "elwfLzPVmdSX",
        "outputId": "1ea3ee49-4f16-4e82-e0f5-802a74274f94"
      },
      "execution_count": 26,
      "outputs": [
        {
          "output_type": "execute_result",
          "data": {
            "text/plain": [
              "'Odena Rowenin adalah yang terbaik'"
            ],
            "application/vnd.google.colaboratory.intrinsic+json": {
              "type": "string"
            }
          },
          "metadata": {},
          "execution_count": 26
        }
      ]
    },
    {
      "cell_type": "code",
      "source": [],
      "metadata": {
        "id": "uRMD5Q0Wnkvv"
      },
      "execution_count": null,
      "outputs": []
    }
  ]
}
