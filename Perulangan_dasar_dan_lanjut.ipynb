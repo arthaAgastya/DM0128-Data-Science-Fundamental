{
  "nbformat": 4,
  "nbformat_minor": 0,
  "metadata": {
    "colab": {
      "provenance": [],
      "authorship_tag": "ABX9TyNJEZ+i5C/RtG3HtQ0qAyx1",
      "include_colab_link": true
    },
    "kernelspec": {
      "name": "python3",
      "display_name": "Python 3"
    },
    "language_info": {
      "name": "python"
    }
  },
  "cells": [
    {
      "cell_type": "markdown",
      "metadata": {
        "id": "view-in-github",
        "colab_type": "text"
      },
      "source": [
        "<a href=\"https://colab.research.google.com/github/arthaAgastya/Data-Science-Fundamental/blob/main/Perulangan_dasar_dan_lanjut.ipynb\" target=\"_parent\"><img src=\"https://colab.research.google.com/assets/colab-badge.svg\" alt=\"Open In Colab\"/></a>"
      ]
    },
    {
      "cell_type": "markdown",
      "source": [
        "## Perulangan dasar dan lanjut"
      ],
      "metadata": {
        "id": "wu3N26nW6Sj_"
      }
    },
    {
      "cell_type": "markdown",
      "source": [
        "###Menggunakan range untuk menghasilkan daftar angka dari 1 hingga 5\n",
        "\n",
        "Perulangan ini menggunakan fungsi range untuk menghasilkan sebuah range objek yang berisi angka dari 1 hingga 5.\n",
        "Setiap angka di dalam range objek tersebut kemudian diiterasi menggunakan perulangan for.\n",
        "Setiap angka dicetak dengan pesan \"Angka: \" diikuti dengan nilai angka."
      ],
      "metadata": {
        "id": "QjTWwjXE1kCH"
      }
    },
    {
      "cell_type": "code",
      "source": [
        "my_range = range(1, 6)\n",
        "for num in my_range:\n",
        "    print(\"Angka:\", num)"
      ],
      "metadata": {
        "colab": {
          "base_uri": "https://localhost:8080/"
        },
        "id": "rZgVD69s1cDl",
        "outputId": "064877fe-f9b1-4344-ba38-e2583a05a64d"
      },
      "execution_count": 1,
      "outputs": [
        {
          "output_type": "stream",
          "name": "stdout",
          "text": [
            "Angka: 1\n",
            "Angka: 2\n",
            "Angka: 3\n",
            "Angka: 4\n",
            "Angka: 5\n"
          ]
        }
      ]
    },
    {
      "cell_type": "markdown",
      "source": [
        "###Menggunakan perulangan for untuk mencetak karakter dalam sebuah string\n",
        "\n",
        "Perulangan ini menggunakan perulangan for untuk mengiterasi melalui setiap karakter dalam string \"Halo, Dunia!\".\n",
        "Setiap karakter dicetak dengan pesan \"Karakter: \" diikuti dengan karakter itu sendiri."
      ],
      "metadata": {
        "id": "qSdvMGor1pYo"
      }
    },
    {
      "cell_type": "code",
      "source": [
        "my_string = \"Halo, Dunia!\"\n",
        "for char in my_string:\n",
        "    print(\"Karakter:\", char)"
      ],
      "metadata": {
        "colab": {
          "base_uri": "https://localhost:8080/"
        },
        "id": "EGB_0nKF15E6",
        "outputId": "1a45229b-d86e-46aa-c8b4-5fd99bf9ce04"
      },
      "execution_count": 2,
      "outputs": [
        {
          "output_type": "stream",
          "name": "stdout",
          "text": [
            "Karakter: H\n",
            "Karakter: a\n",
            "Karakter: l\n",
            "Karakter: o\n",
            "Karakter: ,\n",
            "Karakter:  \n",
            "Karakter: D\n",
            "Karakter: u\n",
            "Karakter: n\n",
            "Karakter: i\n",
            "Karakter: a\n",
            "Karakter: !\n"
          ]
        }
      ]
    },
    {
      "cell_type": "markdown",
      "source": [
        "###Mengubah elemen dalam sebuah daftar menggunakan perulangan for.\n",
        "\n",
        "Perulangan ini menggunakan perulangan for untuk mengiterasi melalui setiap elemen dalam daftar \"colors\".\n",
        "Setiap elemen diubah menjadi huruf kapital menggunakan metode upper() dan ditambahkan ke daftar \"new_colors\".\n",
        "Setelah perulangan selesai, daftar \"new_colors\" dicetak."
      ],
      "metadata": {
        "id": "6ocUZDW918CN"
      }
    },
    {
      "cell_type": "code",
      "source": [
        "colors = ['merah', 'biru', 'hijau', 'kuning']\n",
        "new_colors = []\n",
        "for color in colors:\n",
        "    new_color = color.upper()\n",
        "    new_colors.append(new_color)\n",
        "print(\"Warna Baru:\", new_colors)"
      ],
      "metadata": {
        "colab": {
          "base_uri": "https://localhost:8080/"
        },
        "id": "RxBO8WLX14-2",
        "outputId": "ab27d414-e282-4792-9a03-afb8917d076f"
      },
      "execution_count": 3,
      "outputs": [
        {
          "output_type": "stream",
          "name": "stdout",
          "text": [
            "Warna Baru: ['MERAH', 'BIRU', 'HIJAU', 'KUNING']\n"
          ]
        }
      ]
    },
    {
      "cell_type": "markdown",
      "source": [
        "###Menggunakan enumerasi pada daftar tuple dan mengakses indeks dan elemen\n",
        "\n",
        "Perulangan ini menggunakan fungsi enumerate untuk mengiterasi melalui daftar \"fruits\" dan mendapatkan indeks dan elemen pada setiap iterasi.\n",
        "Setiap indeks, nama buah, dan jumlah buah dicetak sebagai pesan."
      ],
      "metadata": {
        "id": "eIgHwU8B2FJ9"
      }
    },
    {
      "cell_type": "code",
      "source": [
        "fruits = [('apel', 5), ('pisang', 3), ('jeruk', 2)]\n",
        "for idx, (fruit, quantity) in enumerate(fruits):\n",
        "    print(\"Indeks:\", idx, \"Buah:\", fruit, \"Jumlah:\", quantity)"
      ],
      "metadata": {
        "colab": {
          "base_uri": "https://localhost:8080/"
        },
        "id": "pXL7hzLh14wn",
        "outputId": "be86141d-79ab-42ae-8e57-5bc5f1f48ee8"
      },
      "execution_count": 4,
      "outputs": [
        {
          "output_type": "stream",
          "name": "stdout",
          "text": [
            "Indeks: 0 Buah: apel Jumlah: 5\n",
            "Indeks: 1 Buah: pisang Jumlah: 3\n",
            "Indeks: 2 Buah: jeruk Jumlah: 2\n"
          ]
        }
      ]
    },
    {
      "cell_type": "markdown",
      "source": [
        "###Menggunakan perulangan while untuk mencari bilangan genap pertama yang lebih besar dari 100\n",
        "\n",
        "Perulangan ini menggunakan perulangan while untuk memeriksa apakah angka \"num\" adalah bilangan genap.\n",
        "Jika tidak, angka tersebut ditambahkan dengan 1 hingga ditemukan bilangan genap.\n",
        "Setelah perulangan selesai, bilangan genap pertama yang lebih besar dari 100 dicetak."
      ],
      "metadata": {
        "id": "kFgP60Zt2cMT"
      }
    },
    {
      "cell_type": "code",
      "source": [
        "num = 101\n",
        "while num % 2 != 0:\n",
        "    num += 1\n",
        "print(\"Bilangan genap pertama yang lebih besar dari 100:\", num)"
      ],
      "metadata": {
        "colab": {
          "base_uri": "https://localhost:8080/"
        },
        "id": "doph5Hh72dc_",
        "outputId": "60c44f77-6049-400e-f71c-42bc685e1dbc"
      },
      "execution_count": 5,
      "outputs": [
        {
          "output_type": "stream",
          "name": "stdout",
          "text": [
            "Bilangan genap pertama yang lebih besar dari 100: 102\n"
          ]
        }
      ]
    },
    {
      "cell_type": "markdown",
      "source": [
        "###Menggunakan perulangan for untuk mengiterasi melalui kamus dan mencetak pasangan kunci-nilai\n",
        "\n",
        "Perulangan ini menggunakan perulangan for untuk mengiterasi melalui kamus \"student_scores\".\n",
        "Setiap pasangan kunci-nilai dicetak dengan pesan \"Nama: \" diikuti dengan nama dan \"Skor: \" diikuti dengan skor."
      ],
      "metadata": {
        "id": "GrYqBCDO2jHz"
      }
    },
    {
      "cell_type": "code",
      "source": [
        "student_scores = {'Alice': 85, 'Bob': 92, 'Charlie': 78}\n",
        "for name, score in student_scores.items():\n",
        "    print(\"Nama:\", name, \"Skor:\", score)"
      ],
      "metadata": {
        "colab": {
          "base_uri": "https://localhost:8080/"
        },
        "id": "50QmXUlh2f1z",
        "outputId": "e4e825ba-edb1-46c2-ed7b-34b56506850c"
      },
      "execution_count": 6,
      "outputs": [
        {
          "output_type": "stream",
          "name": "stdout",
          "text": [
            "Nama: Alice Skor: 85\n",
            "Nama: Bob Skor: 92\n",
            "Nama: Charlie Skor: 78\n"
          ]
        }
      ]
    },
    {
      "cell_type": "markdown",
      "source": [
        "###Mencetak elemen-elemen sebuah daftar dalam urutan terbalik menggunakan perulangan while\n",
        "\n",
        "Perulangan ini menggunakan perulangan while untuk mencetak setiap elemen dalam daftar \"numbers\" dalam urutan terbalik.\n",
        "Variabel \"i\" awalnya diatur sebagai indeks terakhir dalam daftar.\n",
        "Setiap elemen dicetak dengan pesan \"Angka: \" diikuti dengan nilai elemen.\n",
        "Indeks \"i\" dikurangi 1 setiap iterasi untuk mencapai elemen-elemen sebelumnya dalam daftar."
      ],
      "metadata": {
        "id": "r8fGiLDG2oRm"
      }
    },
    {
      "cell_type": "code",
      "source": [
        "numbers = [1, 2, 3, 4, 5]\n",
        "i = len(numbers) - 1\n",
        "while i >= 0:\n",
        "    print(\"Angka:\", numbers[i])\n",
        "    i -= 1"
      ],
      "metadata": {
        "colab": {
          "base_uri": "https://localhost:8080/"
        },
        "id": "i0-KTAtH2thD",
        "outputId": "2aa43ceb-4e39-429b-d467-e7bfc3ea218b"
      },
      "execution_count": 7,
      "outputs": [
        {
          "output_type": "stream",
          "name": "stdout",
          "text": [
            "Angka: 5\n",
            "Angka: 4\n",
            "Angka: 3\n",
            "Angka: 2\n",
            "Angka: 1\n"
          ]
        }
      ]
    },
    {
      "cell_type": "markdown",
      "source": [
        "###Menggunakan perulangan for untuk mencetak pola bintang\n",
        "\n",
        "Perulangan ini menggunakan perulangan for dengan fungsi range untuk mencetak pola bintang.\n",
        "Variabel \"i\" diatur dari 1 hingga 5, dan setiap iterasi mencetak \"*\" dikali dengan nilai \"i\".\n",
        "Jadi, pada iterasi pertama, hanya satu bintang yang dicetak, dan pada iterasi kelima, lima bintang yang dicetak."
      ],
      "metadata": {
        "id": "xHPXQF1x2yTA"
      }
    },
    {
      "cell_type": "code",
      "source": [
        "for i in range(1, 6):\n",
        "    print(\"*\" * i)"
      ],
      "metadata": {
        "colab": {
          "base_uri": "https://localhost:8080/"
        },
        "id": "Yhirz1Ng2fy_",
        "outputId": "0e3d74e6-a620-45b2-a13e-8a27791b1ab2"
      },
      "execution_count": 8,
      "outputs": [
        {
          "output_type": "stream",
          "name": "stdout",
          "text": [
            "*\n",
            "**\n",
            "***\n",
            "****\n",
            "*****\n"
          ]
        }
      ]
    },
    {
      "cell_type": "markdown",
      "source": [
        "### Menggunakan perulangan while untuk menghitung faktorial suatu bilangan\n",
        "\n",
        "Perulangan ini menggunakan perulangan while untuk menghitung faktorial dari bilangan 5.\n",
        "Variabel \"n\" awalnya diatur sebagai 5, dan setiap iterasi mengalikan variabel \"factorial\" dengan \"n\" dan mengurangi \"n\" dengan 1.\n",
        "Setelah perulangan selesai, faktorial dari bilangan 5 dicetak."
      ],
      "metadata": {
        "id": "ZNJg4C-b3OZ8"
      }
    },
    {
      "cell_type": "code",
      "source": [
        "n = 5\n",
        "factorial = 1\n",
        "while n > 0:\n",
        "    factorial *= n\n",
        "    n -= 1\n",
        "print(\"Faktorial dari 5:\", factorial)"
      ],
      "metadata": {
        "colab": {
          "base_uri": "https://localhost:8080/"
        },
        "id": "jrHjiLma2ftH",
        "outputId": "e225ad78-f22e-4407-ff31-da05be9131d6"
      },
      "execution_count": 9,
      "outputs": [
        {
          "output_type": "stream",
          "name": "stdout",
          "text": [
            "Faktorial dari 5: 120\n"
          ]
        }
      ]
    },
    {
      "cell_type": "markdown",
      "source": [
        "### Menggunakan perulangan for bersarang untuk membuat tabel perkalian\n",
        "\n",
        "Perulangan ini menggunakan perulangan for bersarang untuk membuat tabel perkalian dari 1 hingga 5.\n",
        "Perulangan pertama menggunakan variabel \"i\" untuk mengatur faktor pertama, dan perulangan kedua menggunakan variabel \"j\" untuk mengatur faktor kedua.\n",
        "Setiap kali, perkalian dari faktor-faktor tersebut dihitung dan dicetak dengan format \"i x j = product\".\n",
        "Setelah perulangan kedua selesai, baris baru dicetak untuk memisahkan setiap baris tabel."
      ],
      "metadata": {
        "id": "vDPsjLqy3bQ_"
      }
    },
    {
      "cell_type": "code",
      "source": [
        "for i in range(1, 6):\n",
        "    for j in range(1, 6):\n",
        "        product = i * j\n",
        "        print(f\"{i} x {j} = {product}\")\n",
        "    print()"
      ],
      "metadata": {
        "colab": {
          "base_uri": "https://localhost:8080/"
        },
        "id": "6UCEr3H63XLm",
        "outputId": "859d9f8c-bcd8-493c-81c1-3afa28cc168d"
      },
      "execution_count": 10,
      "outputs": [
        {
          "output_type": "stream",
          "name": "stdout",
          "text": [
            "1 x 1 = 1\n",
            "1 x 2 = 2\n",
            "1 x 3 = 3\n",
            "1 x 4 = 4\n",
            "1 x 5 = 5\n",
            "\n",
            "2 x 1 = 2\n",
            "2 x 2 = 4\n",
            "2 x 3 = 6\n",
            "2 x 4 = 8\n",
            "2 x 5 = 10\n",
            "\n",
            "3 x 1 = 3\n",
            "3 x 2 = 6\n",
            "3 x 3 = 9\n",
            "3 x 4 = 12\n",
            "3 x 5 = 15\n",
            "\n",
            "4 x 1 = 4\n",
            "4 x 2 = 8\n",
            "4 x 3 = 12\n",
            "4 x 4 = 16\n",
            "4 x 5 = 20\n",
            "\n",
            "5 x 1 = 5\n",
            "5 x 2 = 10\n",
            "5 x 3 = 15\n",
            "5 x 4 = 20\n",
            "5 x 5 = 25\n",
            "\n"
          ]
        }
      ]
    },
    {
      "cell_type": "markdown",
      "source": [
        "### Menggunakan list comprehension untuk membuat daftar baru\n",
        "\n",
        "List comprehension ini digunakan untuk membuat daftar \"squared_numbers\" yang berisi kuadrat dari setiap angka dalam daftar \"numbers\".\n",
        "Setiap elemen dalam daftar \"numbers\" dipangkatkan dua menggunakan notasi num ** 2 dan ditambahkan ke daftar \"squared_numbers\".\n",
        "Setelah daftar \"squared_numbers\" selesai dibuat, daftar tersebut dicetak."
      ],
      "metadata": {
        "id": "hmviilCw3j97"
      }
    },
    {
      "cell_type": "code",
      "source": [
        "numbers = [1, 2, 3, 4, 5]\n",
        "squared_numbers = [num ** 2 for num in numbers]\n",
        "print(\"Kuadrat dari Angka-angka:\", squared_numbers)"
      ],
      "metadata": {
        "colab": {
          "base_uri": "https://localhost:8080/"
        },
        "id": "32O3w8Nj3XIj",
        "outputId": "739331bc-3970-4ca5-b195-8efbd52cb98c"
      },
      "execution_count": 11,
      "outputs": [
        {
          "output_type": "stream",
          "name": "stdout",
          "text": [
            "Kuadrat dari Angka-angka: [1, 4, 9, 16, 25]\n"
          ]
        }
      ]
    },
    {
      "cell_type": "markdown",
      "source": [
        "### Menggunakan pernyataan break untuk keluar dari perulangan secara prematur\n",
        "\n",
        "Perulangan ini menggunakan perulangan for untuk mengiterasi melalui setiap nama dalam daftar \"names\".\n",
        "Setiap nama diperiksa panjangnya menggunakan fungsi len(). Jika panjang nama lebih dari 5 karakter, pesan \"Ditemukan nama dengan lebih dari 5 karakter:\" dicetak, dan perulangan dihentikan menggunakan pernyataan break.\n"
      ],
      "metadata": {
        "id": "AW-4eBr_3wSC"
      }
    },
    {
      "cell_type": "code",
      "source": [
        "names = ['Alice', 'Bob', 'Charlie', 'Dave', 'Eve']\n",
        "for name in names:\n",
        "    if len(name) > 5:\n",
        "        print(\"Ditemukan nama dengan lebih dari 5 karakter:\", name)\n",
        "        break"
      ],
      "metadata": {
        "colab": {
          "base_uri": "https://localhost:8080/"
        },
        "id": "_be0wTts3wAg",
        "outputId": "ca41abfa-2642-43a4-929c-7a3948b6b375"
      },
      "execution_count": 12,
      "outputs": [
        {
          "output_type": "stream",
          "name": "stdout",
          "text": [
            "Ditemukan nama dengan lebih dari 5 karakter: Charlie\n"
          ]
        }
      ]
    },
    {
      "cell_type": "markdown",
      "source": [
        "### Menggunakan pernyataan continue untuk melompati iterasi saat ini dan melanjutkan ke iterasi berikutnya\n",
        "\n",
        "Perulangan ini menggunakan perulangan for untuk mengiterasi melalui setiap angka dalam daftar \"numbers\".\n",
        "Pada setiap iterasi, angka diperiksa apakah merupakan bilangan genap menggunakan operasi modulo %.\n",
        "Jika angka merupakan bilangan genap, pernyataan continue akan melompati iterasi saat ini dan melanjutkan ke iterasi berikutnya tanpa menjalankan kode di bawahnya.\n",
        "Jadi, hanya bilangan ganjil yang dicetak."
      ],
      "metadata": {
        "id": "AHAg3iVz361i"
      }
    },
    {
      "cell_type": "code",
      "source": [
        "numbers = [1, 2, 3, 4, 5]\n",
        "for num in numbers:\n",
        "    if num % 2 == 0:\n",
        "        continue\n",
        "    print(\"Bilangan ganjil:\", num)"
      ],
      "metadata": {
        "colab": {
          "base_uri": "https://localhost:8080/"
        },
        "id": "wEyQby6L3W4D",
        "outputId": "03b01895-0ac4-4580-c13c-25c3d555cabe"
      },
      "execution_count": 13,
      "outputs": [
        {
          "output_type": "stream",
          "name": "stdout",
          "text": [
            "Bilangan ganjil: 1\n",
            "Bilangan ganjil: 3\n",
            "Bilangan ganjil: 5\n"
          ]
        }
      ]
    },
    {
      "cell_type": "markdown",
      "source": [
        "### Menggunakan perulangan for untuk mengiterasi melalui string secara terbalik\n",
        "\n",
        "Perulangan ini menggunakan perulangan for dengan fungsi reversed() untuk mengiterasi melalui string \"Halo, Dunia!\" secara terbalik.\n",
        "Setiap karakter dalam string dicetak."
      ],
      "metadata": {
        "id": "Boxfbi1D4YxG"
      }
    },
    {
      "cell_type": "code",
      "source": [
        "my_string = \"Halo, Dunia!\"\n",
        "for char in reversed(my_string):\n",
        "    print(char)"
      ],
      "metadata": {
        "colab": {
          "base_uri": "https://localhost:8080/"
        },
        "id": "RqIeWieb4Ssc",
        "outputId": "5ec02928-415c-45c1-bef2-e459b58812d2"
      },
      "execution_count": 14,
      "outputs": [
        {
          "output_type": "stream",
          "name": "stdout",
          "text": [
            "!\n",
            "a\n",
            "i\n",
            "n\n",
            "u\n",
            "D\n",
            " \n",
            ",\n",
            "o\n",
            "l\n",
            "a\n",
            "H\n"
          ]
        }
      ]
    },
    {
      "cell_type": "markdown",
      "source": [
        "### Menggunakan perulangan while dengan pernyataan else untuk mencari bilangan prima\n",
        "\n",
        "Perulangan ini menggunakan perulangan while untuk memeriksa apakah angka \"num\" adalah bilangan prima.\n",
        "Variabel \"is_prime\" awalnya diatur sebagai True.\n",
        "Perulangan akan berlanjut selama \"i\" kurang dari \"num\".\n",
        "Dalam setiap iterasi, angka \"num\" diperiksa apakah dapat dibagi dengan \"i\" menggunakan operasi modulo %.\n",
        "Jika angka dapat dibagi dengan \"i\" tanpa sisa, maka \"is_prime\" diubah menjadi False, perulangan dihentikan menggunakan pernyataan break, dan kode di bawah pernyataan else tidak dijalankan.\n",
        "Jika perulangan selesai tanpa menggunakan pernyataan break, maka bilangan tersebut dicetak sebagai bilangan prima menggunakan pernyataan else."
      ],
      "metadata": {
        "id": "3FJJ_Qp24urW"
      }
    },
    {
      "cell_type": "code",
      "source": [
        "num = 17\n",
        "is_prime = True\n",
        "i = 2\n",
        "while i < num:\n",
        "    if num % i == 0:\n",
        "        is_prime = False\n",
        "        break\n",
        "    i += 1\n",
        "else:\n",
        "    print(\"Bilangan prima:\", num)"
      ],
      "metadata": {
        "colab": {
          "base_uri": "https://localhost:8080/"
        },
        "id": "4IkUY3S44Sp-",
        "outputId": "1968d287-507e-4ea7-f8a2-c173b2b52486"
      },
      "execution_count": 15,
      "outputs": [
        {
          "output_type": "stream",
          "name": "stdout",
          "text": [
            "Bilangan prima: 17\n"
          ]
        }
      ]
    },
    {
      "cell_type": "markdown",
      "source": [
        "### Menggunakan pernyataan else dengan perulangan for untuk menangani saat perulangan selesai dengan normal\n",
        "\n",
        "Kode ini menggunakan perulangan for untuk mengiterasi melalui setiap angka dalam daftar \"numbers\".\n",
        "Pada setiap iterasi, angka dicek apakah sama dengan \"search_num\".\n",
        "Jika angka ditemukan, maka pesan \"Angka ditemukan!\" dicetak dan perulangan dihentikan menggunakan pernyataan break.\n",
        "Namun, jika angka tidak ditemukan setelah melalui seluruh daftar, maka blok pernyataan else akan dijalankan dan pesan \"Angka tidak ditemukan!\" dicetak.\n",
        "Pernyataan else setelah perulangan for akan dijalankan hanya jika perulangan selesai dengan normal (tidak ada pernyataan break yang digunakan untuk menghentikan perulangan)."
      ],
      "metadata": {
        "id": "lPtRUrMJ5y2C"
      }
    },
    {
      "cell_type": "code",
      "source": [
        "\n",
        "numbers = [1, 2, 3, 4, 5]\n",
        "search_num = 6\n",
        "for num in numbers:\n",
        "    if num == search_num:\n",
        "        print(\"Angka ditemukan!\")\n",
        "        break\n",
        "else:\n",
        "    print(\"Angka tidak ditemukan!\")"
      ],
      "metadata": {
        "colab": {
          "base_uri": "https://localhost:8080/"
        },
        "id": "_hG4epF74Shm",
        "outputId": "2b9ea723-2f29-4cb3-d61f-7903078c6e6f"
      },
      "execution_count": 16,
      "outputs": [
        {
          "output_type": "stream",
          "name": "stdout",
          "text": [
            "Angka tidak ditemukan!\n"
          ]
        }
      ]
    },
    {
      "cell_type": "markdown",
      "source": [
        "### Menggunakan perulangan for untuk mengiterasi melalui beberapa daftar secara bersamaan menggunakan zip\n",
        "\n",
        "Perulangan ini menggunakan perulangan for dan fungsi zip untuk mengiterasi melalui daftar \"names\" dan \"ages\" secara bersamaan.\n",
        "Setiap nama dan usia dicetak dengan pesan \"Nama: \" diikuti dengan nama dan \"Usia: \" diikuti dengan usia."
      ],
      "metadata": {
        "id": "JAbIgbws4Qq2"
      }
    },
    {
      "cell_type": "code",
      "source": [
        "names = ['Alice', 'Bob', 'Charlie']\n",
        "ages = [25, 30, 35]\n",
        "for name, age in zip(names, ages):\n",
        "    print(\"Nama:\", name, \"Usia:\", age)"
      ],
      "metadata": {
        "colab": {
          "base_uri": "https://localhost:8080/"
        },
        "id": "4NJ4J6DT4Su5",
        "outputId": "59a89333-91bb-4444-d931-51a0ee9685b4"
      },
      "execution_count": 17,
      "outputs": [
        {
          "output_type": "stream",
          "name": "stdout",
          "text": [
            "Nama: Alice Usia: 25\n",
            "Nama: Bob Usia: 30\n",
            "Nama: Charlie Usia: 35\n"
          ]
        }
      ]
    },
    {
      "cell_type": "markdown",
      "source": [
        "### Menggunakan enumerate dengan indeks awal untuk mengakses elemen dengan indeks kustom\n",
        "\n",
        "Kode ini menggunakan fungsi enumerate untuk mengiterasi melalui daftar \"colors\" dan mendapatkan indeks dan elemen pada setiap iterasi.\n",
        "Indeks dimulai dari 1 karena parameter start=1 diberikan saat menggunakan fungsi enumerate.\n",
        "Pada setiap iterasi, pesan \"Warna\" diikuti dengan indeks, \"adalah\", dan elemen warna dicetak.\n",
        "Ini memungkinkan akses ke elemen dengan indeks kustom dalam perulangan, dengan memulai indeks pada nilai yang diinginkan."
      ],
      "metadata": {
        "id": "z8ZzjETG571r"
      }
    },
    {
      "cell_type": "code",
      "execution_count": 18,
      "metadata": {
        "colab": {
          "base_uri": "https://localhost:8080/"
        },
        "id": "JPoE7Ikfw4ez",
        "outputId": "43cefa72-c87c-4594-d2e9-a2b926e3d982"
      },
      "outputs": [
        {
          "output_type": "stream",
          "name": "stdout",
          "text": [
            "Warna 1 adalah merah\n",
            "Warna 2 adalah biru\n",
            "Warna 3 adalah hijau\n",
            "Warna 4 adalah kuning\n"
          ]
        }
      ],
      "source": [
        "colors = ['merah', 'biru', 'hijau', 'kuning']\n",
        "for idx, color in enumerate(colors, start=1):\n",
        "    print(\"Warna\", idx, \"adalah\", color)\n"
      ]
    },
    {
      "cell_type": "markdown",
      "source": [
        "### Menggunakan zip dan enumerate bersamaan\n",
        "\n",
        "Kode ini menggunakan fungsi zip untuk menggabungkan elemen-elemen dari daftar \"names\" dan \"ages\" ke dalam pasangan-pasangan.\n",
        "Fungsi enumerate juga digunakan untuk mendapatkan indeks pada setiap iterasi.\n",
        "Pada setiap iterasi, pasangan nama dan usia diakses menggunakan pemisahan nilai (unpacking) dalam bentuk (name, age).\n",
        "Selanjutnya, pernyataan if digunakan untuk memeriksa apakah indeks (idx) melebihi panjang daftar \"colors\".\n",
        "Jika iya, maka perulangan dihentikan menggunakan pernyataan break.\n",
        "Jika tidak, maka variabel color akan mendapatkan elemen warna dari daftar \"colors\" berdasarkan indeks yang dikurangi 1 (indeks dimulai dari 0 dalam daftar).\n",
        "Pesan dengan informasi tentang orang, nama, usia, dan warna dicetak menggunakan f-string."
      ],
      "metadata": {
        "id": "9AO8mihI6IEt"
      }
    },
    {
      "cell_type": "code",
      "source": [
        "names = ['Alice', 'Bob', 'Charlie']\n",
        "ages = [25, 30, 35]\n",
        "colors = ['merah', 'biru', 'hijau', 'kuning']\n",
        "\n",
        "for idx, (name, age) in enumerate(zip(names, ages), start=1):\n",
        "    if idx > len(colors):\n",
        "        break\n",
        "    color = colors[idx - 1]\n",
        "    print(f\"Orang {idx}: Nama={name}, Umur={age}, Warna={color}\")"
      ],
      "metadata": {
        "colab": {
          "base_uri": "https://localhost:8080/"
        },
        "id": "qOrxNSgYz894",
        "outputId": "efee1abd-982d-43cd-a1ed-dcaf217c8433"
      },
      "execution_count": 19,
      "outputs": [
        {
          "output_type": "stream",
          "name": "stdout",
          "text": [
            "Orang 1: Nama=Alice, Umur=25, Warna=merah\n",
            "Orang 2: Nama=Bob, Umur=30, Warna=biru\n",
            "Orang 3: Nama=Charlie, Umur=35, Warna=hijau\n"
          ]
        }
      ]
    },
    {
      "cell_type": "markdown",
      "source": [
        "### Menggunakan perulangan while untuk mengimplementasikan permainan tebak-tebakan\n",
        "\n",
        "Perulangan ini menggunakan perulangan while untuk mengimplementasikan permainan tebak-tebakan.\n",
        "Sebuah angka target dipilih secara acak menggunakan fungsi randint() dari modul random.\n",
        "Pengguna diminta untuk menebak angka dengan memasukkan angka melalui fungsi input().\n",
        "Jika tebakan pengguna lebih rendah dari angka target, pesan \"Terlalu rendah!\" dicetak.\n",
        "Jika tebakan pengguna lebih tinggi dari angka target, pesan \"Terlalu tinggi!\" dicetak.\n",
        "Perulangan berlanjut hingga pengguna menebak angka yang benar.\n",
        "Setelah perulangan selesai, pesan \"Selamat! Anda berhasil menebak angka yang benar.\" dicetak."
      ],
      "metadata": {
        "id": "pwCNIzSk4FKi"
      }
    },
    {
      "cell_type": "code",
      "source": [
        "import random\n",
        "target_number = random.randint(1, 10)\n",
        "guess = None\n",
        "while guess != target_number:\n",
        "    guess = int(input(\"Tebak angka (1-10): \"))\n",
        "    if guess < target_number:\n",
        "        print(\"Terlalu rendah!\")\n",
        "    elif guess > target_number:\n",
        "        print(\"Terlalu tinggi!\")\n",
        "print(\"Selamat! Anda berhasil menebak angka yang benar.\")"
      ],
      "metadata": {
        "colab": {
          "base_uri": "https://localhost:8080/"
        },
        "id": "-Yo9iSdZ4L5O",
        "outputId": "b65fc285-bbeb-4b6f-e89b-2ea238b4720c"
      },
      "execution_count": 20,
      "outputs": [
        {
          "output_type": "stream",
          "name": "stdout",
          "text": [
            "Tebak angka (1-10): 6\n",
            "Terlalu rendah!\n",
            "Tebak angka (1-10): 8\n",
            "Terlalu rendah!\n",
            "Tebak angka (1-10): 10\n",
            "Terlalu tinggi!\n",
            "Tebak angka (1-10): 9\n",
            "Selamat! Anda berhasil menebak angka yang benar.\n"
          ]
        }
      ]
    }
  ]
}