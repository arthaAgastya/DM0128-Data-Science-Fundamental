{
  "nbformat": 4,
  "nbformat_minor": 0,
  "metadata": {
    "colab": {
      "provenance": [],
      "authorship_tag": "ABX9TyM/mDYFIryddOHfCpoWmypM",
      "include_colab_link": true
    },
    "kernelspec": {
      "name": "python3",
      "display_name": "Python 3"
    },
    "language_info": {
      "name": "python"
    }
  },
  "cells": [
    {
      "cell_type": "markdown",
      "metadata": {
        "id": "view-in-github",
        "colab_type": "text"
      },
      "source": [
        "<a href=\"https://colab.research.google.com/github/arthaAgastya/Data-Science-Fundamental/blob/main/Bekerja_dengan_Dictionary.ipynb\" target=\"_parent\"><img src=\"https://colab.research.google.com/assets/colab-badge.svg\" alt=\"Open In Colab\"/></a>"
      ]
    },
    {
      "cell_type": "code",
      "execution_count": 1,
      "metadata": {
        "colab": {
          "base_uri": "https://localhost:8080/"
        },
        "id": "q58zLPf5vCEg",
        "outputId": "a57b3ed3-bf72-4ebc-b893-6d47023265e1"
      },
      "outputs": [
        {
          "output_type": "stream",
          "name": "stdout",
          "text": [
            "{'nama': 'John', 'usia': 25, 'kota': 'New York', 'negara': 'USA', 'kemampuan': ['Python', 'JavaScript', 'Analisis Data']}\n"
          ]
        }
      ],
      "source": [
        "# Membuat Dictionary\n",
        "informasi_person = {\n",
        "    \"nama\": \"John\",\n",
        "    \"usia\": 25,\n",
        "    \"kota\": \"New York\",\n",
        "    \"negara\": \"USA\",\n",
        "    \"kemampuan\": [\"Python\", \"JavaScript\", \"Analisis Data\"]\n",
        "}\n",
        "print(informasi_person)\n"
      ]
    },
    {
      "cell_type": "code",
      "source": [
        "# Mengakses Nilai dalam Dictionary\n",
        "print(informasi_person[\"nama\"])  # Mengakses nilai menggunakan kunci"
      ],
      "metadata": {
        "colab": {
          "base_uri": "https://localhost:8080/"
        },
        "id": "BGWwYvjUvY3U",
        "outputId": "c04bbca7-3e40-4e1c-9467-835e416281cb"
      },
      "execution_count": 2,
      "outputs": [
        {
          "output_type": "stream",
          "name": "stdout",
          "text": [
            "John\n"
          ]
        }
      ]
    },
    {
      "cell_type": "code",
      "source": [
        "# Membuat Dictionary Contoh\n",
        "inventaris_mobil = {\n",
        "    \"Toyota\": 10,\n",
        "    \"Honda\": 5,\n",
        "    \"Ford\": 3,\n",
        "    \"Chevrolet\": 7,\n",
        "    \"BMW\": 2,\n",
        "    \"Mercedes-Benz\": 4\n",
        "}\n",
        "print(inventaris_mobil)"
      ],
      "metadata": {
        "colab": {
          "base_uri": "https://localhost:8080/"
        },
        "id": "pR90JyVRvSsh",
        "outputId": "688459ac-0751-4dce-96e1-2b79fb021955"
      },
      "execution_count": 3,
      "outputs": [
        {
          "output_type": "stream",
          "name": "stdout",
          "text": [
            "{'Toyota': 10, 'Honda': 5, 'Ford': 3, 'Chevrolet': 7, 'BMW': 2, 'Mercedes-Benz': 4}\n"
          ]
        }
      ]
    },
    {
      "cell_type": "code",
      "source": [
        "# Mengakses Nilai dalam Dictionary\n",
        "print(inventaris_mobil['Toyota'])  # Mengakses nilai menggunakan kunci"
      ],
      "metadata": {
        "colab": {
          "base_uri": "https://localhost:8080/"
        },
        "id": "MExB7q8MvSqA",
        "outputId": "5f4e17c0-01a5-4bd7-cff9-5b5ce93535d8"
      },
      "execution_count": 4,
      "outputs": [
        {
          "output_type": "stream",
          "name": "stdout",
          "text": [
            "10\n"
          ]
        }
      ]
    },
    {
      "cell_type": "code",
      "source": [
        "# Mendapatkan semua kunci dalam dictionary\n",
        "print(inventaris_mobil.keys())"
      ],
      "metadata": {
        "colab": {
          "base_uri": "https://localhost:8080/"
        },
        "id": "Ec0cTAFkvSnh",
        "outputId": "76f4bfc9-5b10-46bd-c17c-bd0a09bc60fb"
      },
      "execution_count": 5,
      "outputs": [
        {
          "output_type": "stream",
          "name": "stdout",
          "text": [
            "dict_keys(['Toyota', 'Honda', 'Ford', 'Chevrolet', 'BMW', 'Mercedes-Benz'])\n"
          ]
        }
      ]
    },
    {
      "cell_type": "code",
      "source": [
        "# Mendapatkan semua nilai dalam dictionary\n",
        "print(inventaris_mobil.values())"
      ],
      "metadata": {
        "colab": {
          "base_uri": "https://localhost:8080/"
        },
        "id": "9FcQfPAQvSi4",
        "outputId": "27fc1fe6-b40e-43db-efba-5b669880401c"
      },
      "execution_count": 6,
      "outputs": [
        {
          "output_type": "stream",
          "name": "stdout",
          "text": [
            "dict_values([10, 5, 3, 7, 2, 4])\n"
          ]
        }
      ]
    },
    {
      "cell_type": "code",
      "source": [
        "# Menambahkan Entri ke dalam Dictionary\n",
        "inventaris_mobil['Lexus'] = 6\n",
        "print(inventaris_mobil)"
      ],
      "metadata": {
        "colab": {
          "base_uri": "https://localhost:8080/"
        },
        "id": "nDtAF_uxvSf5",
        "outputId": "62495b69-bd12-48af-bfa5-a546232b15e7"
      },
      "execution_count": 7,
      "outputs": [
        {
          "output_type": "stream",
          "name": "stdout",
          "text": [
            "{'Toyota': 10, 'Honda': 5, 'Ford': 3, 'Chevrolet': 7, 'BMW': 2, 'Mercedes-Benz': 4, 'Lexus': 6}\n"
          ]
        }
      ]
    },
    {
      "cell_type": "code",
      "source": [
        "# Menghapus Entri dari Dictionary\n",
        "del inventaris_mobil['Ford']\n",
        "del inventaris_mobil['BMW']\n",
        "print(inventaris_mobil)"
      ],
      "metadata": {
        "colab": {
          "base_uri": "https://localhost:8080/"
        },
        "id": "hHkzvQuPvIvb",
        "outputId": "fbf00bad-243a-45e5-f129-3f0c9cac5e0f"
      },
      "execution_count": 8,
      "outputs": [
        {
          "output_type": "stream",
          "name": "stdout",
          "text": [
            "{'Toyota': 10, 'Honda': 5, 'Chevrolet': 7, 'Mercedes-Benz': 4, 'Lexus': 6}\n"
          ]
        }
      ]
    },
    {
      "cell_type": "code",
      "source": [
        "# Memverifikasi Kehadiran Kunci dalam Dictionary\n",
        "print('Honda' in inventaris_mobil)"
      ],
      "metadata": {
        "colab": {
          "base_uri": "https://localhost:8080/"
        },
        "id": "DKCWgabyvIs8",
        "outputId": "35016621-7af6-48f4-8023-03e864daaec9"
      },
      "execution_count": 9,
      "outputs": [
        {
          "output_type": "stream",
          "name": "stdout",
          "text": [
            "True\n"
          ]
        }
      ]
    },
    {
      "cell_type": "code",
      "source": [
        "# Kuis tentang Dictionary\n",
        "\n",
        "# Dictionary Contoh untuk Kuis\n",
        "penulis_buku = {\n",
        "    \"The Great Gatsby\": \"F. Scott Fitzgerald\",\n",
        "    \"To Kill a Mockingbird\": \"Harper Lee\",\n",
        "    \"1984\": \"George Orwell\",\n",
        "    \"Pride and Prejudice\": \"Jane Austen\",\n",
        "    \"The Catcher in the Rye\": \"J.D. Salinger\"\n",
        "}\n",
        "print(penulis_buku)"
      ],
      "metadata": {
        "colab": {
          "base_uri": "https://localhost:8080/"
        },
        "id": "0eYZc6TmvIqk",
        "outputId": "ccaf81b6-6dd9-47ab-c6c0-a4937b7aa8b3"
      },
      "execution_count": 10,
      "outputs": [
        {
          "output_type": "stream",
          "name": "stdout",
          "text": [
            "{'The Great Gatsby': 'F. Scott Fitzgerald', 'To Kill a Mockingbird': 'Harper Lee', '1984': 'George Orwell', 'Pride and Prejudice': 'Jane Austen', 'The Catcher in the Rye': 'J.D. Salinger'}\n"
          ]
        }
      ]
    },
    {
      "cell_type": "code",
      "source": [
        "# Pertanyaan Kuis: Apa kunci dalam dictionary penulis_buku?\n"
      ],
      "metadata": {
        "id": "9pA95kXHvIoE"
      },
      "execution_count": null,
      "outputs": []
    },
    {
      "cell_type": "markdown",
      "source": [
        "<details><summary>Klik untuk Solusi</summary>\n",
        "\n",
        "```python\n",
        "print(penulis_buku.keys())\n",
        "\n",
        "```\n",
        "\n",
        "</details>"
      ],
      "metadata": {
        "id": "A8CUriHdwIHt"
      }
    },
    {
      "cell_type": "code",
      "source": [
        "# Pertanyaan Kuis: Apa nilai dalam dictionary penulis_buku?\n"
      ],
      "metadata": {
        "id": "FB8dHPRwvIk8"
      },
      "execution_count": null,
      "outputs": []
    },
    {
      "cell_type": "markdown",
      "source": [
        "<details><summary>Klik untuk Solusi</summary>\n",
        "\n",
        "```python\n",
        "print(penulis_buku.values())\n",
        "\n",
        "```\n",
        "\n",
        "</details>"
      ],
      "metadata": {
        "id": "6NB2-2gDwU4t"
      }
    },
    {
      "cell_type": "code",
      "source": [
        "# Contoh Lain dengan Dictionary\n",
        "\n",
        "# Nilai Ujian Siswa\n",
        "nilai_ujian = {\n",
        "    'John': 85,\n",
        "    'Emily': 92,\n",
        "    'Michael': 78,\n",
        "    'Sophia': 95,\n",
        "    'Daniel': 88\n",
        "}\n",
        "print(nilai_ujian)"
      ],
      "metadata": {
        "colab": {
          "base_uri": "https://localhost:8080/"
        },
        "id": "PvR6fm1NvEcp",
        "outputId": "ced8ae14-0bd5-458b-b10b-bd8399077aad"
      },
      "execution_count": 13,
      "outputs": [
        {
          "output_type": "stream",
          "name": "stdout",
          "text": [
            "{'John': 85, 'Emily': 92, 'Michael': 78, 'Sophia': 95, 'Daniel': 88}\n"
          ]
        }
      ]
    },
    {
      "cell_type": "code",
      "source": [
        "# Menemukan Nilai Ujian Siswa\n",
        "print(nilai_ujian['Sophia'])"
      ],
      "metadata": {
        "colab": {
          "base_uri": "https://localhost:8080/"
        },
        "id": "2PSEBhjlvEZx",
        "outputId": "f172a0b0-e6ed-4a4a-f338-0b45e32bdc4c"
      },
      "execution_count": 14,
      "outputs": [
        {
          "output_type": "stream",
          "name": "stdout",
          "text": [
            "95\n"
          ]
        }
      ]
    },
    {
      "cell_type": "code",
      "source": [
        "# Menemukan Nama-nama Siswa menggunakan keys()\n",
        "print(nilai_ujian.keys())"
      ],
      "metadata": {
        "colab": {
          "base_uri": "https://localhost:8080/"
        },
        "id": "1opc9VnhvEW6",
        "outputId": "6c3ccd35-814a-46b5-a89f-51e98e8daa25"
      },
      "execution_count": 15,
      "outputs": [
        {
          "output_type": "stream",
          "name": "stdout",
          "text": [
            "dict_keys(['John', 'Emily', 'Michael', 'Sophia', 'Daniel'])\n"
          ]
        }
      ]
    },
    {
      "cell_type": "code",
      "source": [
        "# Menemukan Nilai Ujian menggunakan values()\n",
        "print(nilai_ujian.values())"
      ],
      "metadata": {
        "colab": {
          "base_uri": "https://localhost:8080/"
        },
        "id": "4h6vq-AWvET5",
        "outputId": "350edefc-f02b-40e4-a838-11a0067ed1f3"
      },
      "execution_count": 16,
      "outputs": [
        {
          "output_type": "stream",
          "name": "stdout",
          "text": [
            "dict_values([85, 92, 78, 95, 88])\n"
          ]
        }
      ]
    }
  ]
}